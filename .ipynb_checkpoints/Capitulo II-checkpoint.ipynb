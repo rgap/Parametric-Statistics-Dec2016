{
 "cells": [
  {
   "cell_type": "code",
   "execution_count": 1,
   "metadata": {
    "collapsed": true
   },
   "outputs": [],
   "source": [
    "import pandas as pd\n",
    "import matplotlib.pyplot as plt\n",
    "import seaborn as sns\n",
    "import numpy as np\n",
    "import math\n",
    "%matplotlib inline\n",
    "sns.set(style='whitegrid', rc={\"grid.linewidth\": 0.1})\n",
    "sns.set_context(\"paper\")\n",
    "\n",
    "plt.rc('figure', figsize=(6,3))\n",
    "plt.rc('figure.subplot', wspace=.33)"
   ]
  },
  {
   "cell_type": "markdown",
   "metadata": {},
   "source": [
    "##  Problema 4"
   ]
  },
  {
   "cell_type": "markdown",
   "metadata": {},
   "source": [
    "Los siguientes datos son mediciones de viscosidad de un producto químico tomadas cada hora:\n",
    "\n",
    "47.9 47.9 48.6 48.0 48.4 48.1 48.0 48.6\n",
    "48.8 48.1 48.3 47.2 48.9 48.6 48.0 47.5\n",
    "48.6 48.0 47.9 48.3 48.5 48.1 48.0 48.3\n",
    "43.2 43.0 43.2 43.1 43.0 42.9 43.6 43.3\n",
    "43.0 42.8 43.1 43.2 43.6 43.2 43.5 43.0\n",
    "\n",
    "a) Construya un histograma y un diagrama de caja para esta serie de datos.\n",
    "\n",
    "b) ¿Cuáles son los percentiles 90 y 10 de estos datos?\n",
    "\n",
    "c) Las especificaciones sobre la viscosidad del producto son $48 \\pm 2$, ¿qué conclusiones puede obtener\n",
    "sobre el desempeño del proceso?"
   ]
  },
  {
   "cell_type": "code",
   "execution_count": 2,
   "metadata": {
    "collapsed": false
   },
   "outputs": [],
   "source": [
    "ts = pd.read_csv(\"data/2_4.csv\")"
   ]
  },
  {
   "cell_type": "code",
   "execution_count": 3,
   "metadata": {
    "collapsed": false
   },
   "outputs": [
    {
     "data": {
      "text/plain": [
       "6"
      ]
     },
     "execution_count": 3,
     "metadata": {},
     "output_type": "execute_result"
    }
   ],
   "source": [
    "n_classes = int(math.sqrt(ts.shape[0]))\n",
    "n_classes"
   ]
  },
  {
   "cell_type": "markdown",
   "metadata": {},
   "source": [
    "No es un buen numero de clases en este caso, mejor 30"
   ]
  },
  {
   "cell_type": "code",
   "execution_count": 4,
   "metadata": {
    "collapsed": false
   },
   "outputs": [
    {
     "data": {
      "text/plain": [
       "<matplotlib.axes._subplots.AxesSubplot at 0x10e6e49e8>"
      ]
     },
     "execution_count": 4,
     "metadata": {},
     "output_type": "execute_result"
    },
    {
     "data": {
      "image/png": "[encoded data removed]",
      "text/plain": [
       "<matplotlib.figure.Figure at 0x10a44c940>"
      ]
     },
     "metadata": {},
     "output_type": "display_data"
    }
   ],
   "source": [
    "ts[\"Viscosidad\"].hist(bins=30)"
   ]
  },
  {
   "cell_type": "markdown",
   "metadata": {},
   "source": [
    "No presenta un distribucion normal obviamente, pero sirve para ver entre que valores se encuentran las viscosidades mayormente."
   ]
  },
  {
   "cell_type": "code",
   "execution_count": 5,
   "metadata": {
    "collapsed": false
   },
   "outputs": [
    {
     "data": {
      "text/plain": [
       "<matplotlib.axes._subplots.AxesSubplot at 0x10e7f0e10>"
      ]
     },
     "execution_count": 5,
     "metadata": {},
     "output_type": "execute_result"
    },
    {
     "data": {
      "image/png": "[encoded data removed]",
      "text/plain": [
       "<matplotlib.figure.Figure at 0x10e8543c8>"
      ]
     },
     "metadata": {},
     "output_type": "display_data"
    }
   ],
   "source": [
    "sns.boxplot(x=ts[\"Viscosidad\"])"
   ]
  },
  {
   "cell_type": "code",
   "execution_count": 6,
   "metadata": {
    "collapsed": false
   },
   "outputs": [
    {
     "data": {
      "text/html": [
       "<div>\n",
       "<table border=\"1\" class=\"dataframe\">\n",
       "  <thead>\n",
       "    <tr style=\"text-align: right;\">\n",
       "      <th></th>\n",
       "      <th>Viscosidad</th>\n",
       "    </tr>\n",
       "  </thead>\n",
       "  <tbody>\n",
       "    <tr>\n",
       "      <th>count</th>\n",
       "      <td>40.000000</td>\n",
       "    </tr>\n",
       "    <tr>\n",
       "      <th>mean</th>\n",
       "      <td>46.182500</td>\n",
       "    </tr>\n",
       "    <tr>\n",
       "      <th>std</th>\n",
       "      <td>2.514969</td>\n",
       "    </tr>\n",
       "    <tr>\n",
       "      <th>min</th>\n",
       "      <td>42.800000</td>\n",
       "    </tr>\n",
       "    <tr>\n",
       "      <th>10%</th>\n",
       "      <td>43.000000</td>\n",
       "    </tr>\n",
       "    <tr>\n",
       "      <th>50%</th>\n",
       "      <td>47.900000</td>\n",
       "    </tr>\n",
       "    <tr>\n",
       "      <th>90%</th>\n",
       "      <td>48.600000</td>\n",
       "    </tr>\n",
       "    <tr>\n",
       "      <th>max</th>\n",
       "      <td>48.900000</td>\n",
       "    </tr>\n",
       "  </tbody>\n",
       "</table>\n",
       "</div>"
      ],
      "text/plain": [
       "       Viscosidad\n",
       "count   40.000000\n",
       "mean    46.182500\n",
       "std      2.514969\n",
       "min     42.800000\n",
       "10%     43.000000\n",
       "50%     47.900000\n",
       "90%     48.600000\n",
       "max     48.900000"
      ]
     },
     "execution_count": 6,
     "metadata": {},
     "output_type": "execute_result"
    }
   ],
   "source": [
    "ts.describe(percentiles=[0.9, 0.1])"
   ]
  },
  {
   "cell_type": "markdown",
   "metadata": {},
   "source": [
    "Percentiles de los datos\n",
    "\n",
    "$p_{0.9} = 48.6$\n",
    "\n",
    "Al menos 90% de las observaciones están en el valor o por debajo de 48.6\n",
    "\n",
    "$p_{0.1} = 43.0$\n",
    "\n",
    "Al menos 10% de las observaciones están en el valor o por debajo de 43.0"
   ]
  },
  {
   "cell_type": "markdown",
   "metadata": {},
   "source": [
    "De acuerdo con las especificaciones, la viscosidad debe ser $48 \\pm 2$, pero el 90% de los datos esta por debajo de este valor.\n",
    "\n",
    "**Desempeño deficiente!**"
   ]
  },
  {
   "cell_type": "markdown",
   "metadata": {},
   "source": [
    "##  Problema 5\n",
    "\n",
    "Un fabricante de aleaciones metálicas esta preocupado por las quejas de sus clientes acerca de la falta de\n",
    "uniformidad en el punto de fusión de filamentos metálicos producidos. 50 filamentos se seleccionaron y sus\n",
    "puntos de fusión determinados. Los siguientes son los resultados obtenidos:\n",
    "\n",
    "320 325 314 314 313 329 320 329 317 316\n",
    "331 326 328 312 308 327 316 308 321 319\n",
    "322 320 325 319 318 305 314 329 323 327\n",
    "323 335 320 318 310 313 328 330 322 310\n",
    "324 324 318 317 322 324 320 324 311 317\n",
    "\n",
    "a) Construir la distribución de frecuencias y mostrar el histograma.\n",
    "\n",
    "b) Calcular el promedio, mediana, varianza de muestra y desviación estándar.\n",
    "\n",
    "c) Cuantas observaciones caen dentro del limite de un desviación estándar alrededor del promedio?. Dentro\n",
    "de dos desviaciones estándar?"
   ]
  },
  {
   "cell_type": "code",
   "execution_count": 7,
   "metadata": {
    "collapsed": true
   },
   "outputs": [],
   "source": [
    "ts = pd.read_csv(\"data/2_5.csv\")"
   ]
  },
  {
   "cell_type": "code",
   "execution_count": 8,
   "metadata": {
    "collapsed": false,
    "scrolled": true
   },
   "outputs": [
    {
     "data": {
      "text/html": [
       "<div>\n",
       "<table border=\"1\" class=\"dataframe\">\n",
       "  <thead>\n",
       "    <tr style=\"text-align: right;\">\n",
       "      <th></th>\n",
       "      <th>Interval</th>\n",
       "      <th>Midpoint</th>\n",
       "      <th>Frequency</th>\n",
       "      <th>Relative frequency</th>\n",
       "      <th>Cumulative frequency</th>\n",
       "      <th>Cumumative relative frequency</th>\n",
       "    </tr>\n",
       "  </thead>\n",
       "  <tbody>\n",
       "    <tr>\n",
       "      <th>0</th>\n",
       "      <td>(304.97, 309.286]</td>\n",
       "      <td>307.1280</td>\n",
       "      <td>3</td>\n",
       "      <td>0.06</td>\n",
       "      <td>3</td>\n",
       "      <td>0.06</td>\n",
       "    </tr>\n",
       "    <tr>\n",
       "      <th>1</th>\n",
       "      <td>(309.286, 313.571]</td>\n",
       "      <td>311.4285</td>\n",
       "      <td>6</td>\n",
       "      <td>0.12</td>\n",
       "      <td>9</td>\n",
       "      <td>0.18</td>\n",
       "    </tr>\n",
       "    <tr>\n",
       "      <th>2</th>\n",
       "      <td>(313.571, 317.857]</td>\n",
       "      <td>315.7140</td>\n",
       "      <td>8</td>\n",
       "      <td>0.16</td>\n",
       "      <td>17</td>\n",
       "      <td>0.34</td>\n",
       "    </tr>\n",
       "    <tr>\n",
       "      <th>3</th>\n",
       "      <td>(317.857, 322.143]</td>\n",
       "      <td>320.0000</td>\n",
       "      <td>14</td>\n",
       "      <td>0.28</td>\n",
       "      <td>31</td>\n",
       "      <td>0.62</td>\n",
       "    </tr>\n",
       "    <tr>\n",
       "      <th>4</th>\n",
       "      <td>(322.143, 326.429]</td>\n",
       "      <td>324.2860</td>\n",
       "      <td>9</td>\n",
       "      <td>0.18</td>\n",
       "      <td>40</td>\n",
       "      <td>0.80</td>\n",
       "    </tr>\n",
       "    <tr>\n",
       "      <th>5</th>\n",
       "      <td>(326.429, 330.714]</td>\n",
       "      <td>328.5715</td>\n",
       "      <td>8</td>\n",
       "      <td>0.16</td>\n",
       "      <td>48</td>\n",
       "      <td>0.96</td>\n",
       "    </tr>\n",
       "    <tr>\n",
       "      <th>6</th>\n",
       "      <td>(330.714, 335]</td>\n",
       "      <td>332.8570</td>\n",
       "      <td>2</td>\n",
       "      <td>0.04</td>\n",
       "      <td>50</td>\n",
       "      <td>1.00</td>\n",
       "    </tr>\n",
       "  </tbody>\n",
       "</table>\n",
       "</div>"
      ],
      "text/plain": [
       "             Interval  Midpoint  Frequency  Relative frequency  \\\n",
       "0   (304.97, 309.286]  307.1280          3                0.06   \n",
       "1  (309.286, 313.571]  311.4285          6                0.12   \n",
       "2  (313.571, 317.857]  315.7140          8                0.16   \n",
       "3  (317.857, 322.143]  320.0000         14                0.28   \n",
       "4  (322.143, 326.429]  324.2860          9                0.18   \n",
       "5  (326.429, 330.714]  328.5715          8                0.16   \n",
       "6      (330.714, 335]  332.8570          2                0.04   \n",
       "\n",
       "   Cumulative frequency  Cumumative relative frequency  \n",
       "0                     3                           0.06  \n",
       "1                     9                           0.18  \n",
       "2                    17                           0.34  \n",
       "3                    31                           0.62  \n",
       "4                    40                           0.80  \n",
       "5                    48                           0.96  \n",
       "6                    50                           1.00  "
      ]
     },
     "execution_count": 8,
     "metadata": {},
     "output_type": "execute_result"
    }
   ],
   "source": [
    "def compute_freq_table(data, column, n_classes):\n",
    "    cats = pd.cut(data[column], n_classes)\n",
    "    counts = pd.value_counts(cats).sort_index()\n",
    "    midpoint = [(float(s) + float(e)) / 2 for [s, e] in [v[1:-1].split(\",\") for v in counts.index]]\n",
    "    midpoint_col = pd.Series(midpoint, name=\"Midpoint\")\n",
    "    freq_table = pd.DataFrame(counts.values, columns=[\"Frequency\"])\n",
    "    sample_size = freq_table[\"Frequency\"].sum()\n",
    "    freq_table[\"Relative frequency\"] = freq_table[\"Frequency\"] / sample_size\n",
    "    freq_table[\"Cumulative frequency\"] = freq_table[\"Frequency\"].cumsum()\n",
    "    freq_table[\"Cumumative relative frequency\"] = freq_table[\"Cumulative frequency\"] / sample_size\n",
    "\n",
    "    return pd.concat([pd.Series(counts.index, name=\"Interval\"),\n",
    "                      midpoint_col,\n",
    "                      freq_table], axis=1)\n",
    "\n",
    "n_classes = int(math.sqrt(ts.shape[0]))\n",
    "compute_freq_table(ts, \"Fusion\", n_classes)"
   ]
  },
  {
   "cell_type": "code",
   "execution_count": 9,
   "metadata": {
    "collapsed": false
   },
   "outputs": [
    {
     "data": {
      "text/plain": [
       "<matplotlib.axes._subplots.AxesSubplot at 0x10e850978>"
      ]
     },
     "execution_count": 9,
     "metadata": {},
     "output_type": "execute_result"
    },
    {
     "data": {
      "image/png": "[encoded data removed]",
      "text/plain": [
       "<matplotlib.figure.Figure at 0x10e95c908>"
      ]
     },
     "metadata": {},
     "output_type": "display_data"
    }
   ],
   "source": [
    "ts[\"Fusion\"].hist(bins=n_classes)"
   ]
  },
  {
   "cell_type": "code",
   "execution_count": 10,
   "metadata": {
    "collapsed": false,
    "scrolled": false
   },
   "outputs": [
    {
     "data": {
      "text/plain": [
       "[320.10000000000002, 320.0, 45.561224489795912, 6.7499055171013991]"
      ]
     },
     "execution_count": 10,
     "metadata": {},
     "output_type": "execute_result"
    }
   ],
   "source": [
    "[ts[\"Fusion\"].mean(), ts[\"Fusion\"].median(), ts[\"Fusion\"].var(), ts[\"Fusion\"].std()]"
   ]
  },
  {
   "cell_type": "markdown",
   "metadata": {},
   "source": [
    "Dentro del limite\n",
    "\n",
    "$[320.10 \\pm 6.749]$"
   ]
  },
  {
   "cell_type": "code",
   "execution_count": 11,
   "metadata": {
    "collapsed": true
   },
   "outputs": [],
   "source": [
    "mean = ts[\"Fusion\"].mean()\n",
    "std = ts[\"Fusion\"].std()"
   ]
  },
  {
   "cell_type": "code",
   "execution_count": 12,
   "metadata": {
    "collapsed": false
   },
   "outputs": [
    {
     "data": {
      "text/plain": [
       "Fusion    31\n",
       "dtype: int64"
      ]
     },
     "execution_count": 12,
     "metadata": {},
     "output_type": "execute_result"
    }
   ],
   "source": [
    "ts[(ts['Fusion'] >= mean - std) & (ts['Fusion'] <= mean + std)].count()"
   ]
  },
  {
   "cell_type": "markdown",
   "metadata": {},
   "source": [
    "De las 50 observaciones, 31 se encuentran una desv. est. alrededor de la media."
   ]
  },
  {
   "cell_type": "code",
   "execution_count": 13,
   "metadata": {
    "collapsed": false
   },
   "outputs": [
    {
     "data": {
      "text/plain": [
       "Fusion    48\n",
       "dtype: int64"
      ]
     },
     "execution_count": 13,
     "metadata": {},
     "output_type": "execute_result"
    }
   ],
   "source": [
    "ts[(ts['Fusion'] >= mean - 2*std) & (ts['Fusion'] <= mean + 2*std)].count()"
   ]
  },
  {
   "cell_type": "markdown",
   "metadata": {},
   "source": [
    "48 se encuentran dos desv. est. alrededor de la media."
   ]
  },
  {
   "cell_type": "markdown",
   "metadata": {},
   "source": [
    "##  Problema 9\n",
    "\n",
    "En algunos conjuntos de datos se aplica una transformación matemática a los datos originales, tal como raíz\n",
    "cuadrada de y ó log(y), que pueden dar como resultado datos con los que es más fácil trabajar desde el punto\n",
    "de vista estadístico. Para ilustrar el efecto de una transformación, considere los siguientes datos, los cuales\n",
    "representan el número de vueltas transcurridas antes de una falla para un producto de hilo:\n",
    "\n",
    "675 3650 175 1150 290 2000\n",
    "\n",
    "a. Construya un diagrama de caja y comente la forma que tiene la distribución.\n",
    "\n",
    "b. Transforme los datos utilizando logaritmos; o sea: y* = log(y) (y es el valor original). Construya un diagrama\n",
    "de caja para los datos transformados y comente el efecto de la transformación."
   ]
  },
  {
   "cell_type": "code",
   "execution_count": 14,
   "metadata": {
    "collapsed": true
   },
   "outputs": [],
   "source": [
    "data = pd.Series([675, 3650, 175, 1150, 290, 2000])"
   ]
  },
  {
   "cell_type": "code",
   "execution_count": 15,
   "metadata": {
    "collapsed": false
   },
   "outputs": [
    {
     "data": {
      "text/plain": [
       "<matplotlib.text.Text at 0x10eb23748>"
      ]
     },
     "execution_count": 15,
     "metadata": {},
     "output_type": "execute_result"
    },
    {
     "data": {
      "image/png": "[encoded data removed]",
      "text/plain": [
       "<matplotlib.figure.Figure at 0x10ea42588>"
      ]
     },
     "metadata": {},
     "output_type": "display_data"
    }
   ],
   "source": [
    "sns.boxplot(x=data)\n",
    "plt.xlabel(\"Numero de vueltas transcurridas\")"
   ]
  },
  {
   "cell_type": "markdown",
   "metadata": {},
   "source": [
    "La distribucion es asimetrica, con sesgo positivo, cola a la izquierda."
   ]
  },
  {
   "cell_type": "code",
   "execution_count": 16,
   "metadata": {
    "collapsed": false
   },
   "outputs": [
    {
     "data": {
      "text/html": [
       "<div>\n",
       "<table border=\"1\" class=\"dataframe\">\n",
       "  <thead>\n",
       "    <tr style=\"text-align: right;\">\n",
       "      <th></th>\n",
       "      <th>0</th>\n",
       "      <th>1</th>\n",
       "    </tr>\n",
       "  </thead>\n",
       "  <tbody>\n",
       "    <tr>\n",
       "      <th>0</th>\n",
       "      <td>675</td>\n",
       "      <td>6.514713</td>\n",
       "    </tr>\n",
       "    <tr>\n",
       "      <th>1</th>\n",
       "      <td>3650</td>\n",
       "      <td>8.202482</td>\n",
       "    </tr>\n",
       "    <tr>\n",
       "      <th>2</th>\n",
       "      <td>175</td>\n",
       "      <td>5.164786</td>\n",
       "    </tr>\n",
       "    <tr>\n",
       "      <th>3</th>\n",
       "      <td>1150</td>\n",
       "      <td>7.047517</td>\n",
       "    </tr>\n",
       "    <tr>\n",
       "      <th>4</th>\n",
       "      <td>290</td>\n",
       "      <td>5.669881</td>\n",
       "    </tr>\n",
       "    <tr>\n",
       "      <th>5</th>\n",
       "      <td>2000</td>\n",
       "      <td>7.600902</td>\n",
       "    </tr>\n",
       "  </tbody>\n",
       "</table>\n",
       "</div>"
      ],
      "text/plain": [
       "      0         1\n",
       "0   675  6.514713\n",
       "1  3650  8.202482\n",
       "2   175  5.164786\n",
       "3  1150  7.047517\n",
       "4   290  5.669881\n",
       "5  2000  7.600902"
      ]
     },
     "execution_count": 16,
     "metadata": {},
     "output_type": "execute_result"
    }
   ],
   "source": [
    "y_data = pd.concat([data, np.log(data)], axis=1)\n",
    "y_data"
   ]
  },
  {
   "cell_type": "code",
   "execution_count": 17,
   "metadata": {
    "collapsed": false
   },
   "outputs": [
    {
     "data": {
      "text/plain": [
       "<matplotlib.text.Text at 0x10ec6e898>"
      ]
     },
     "execution_count": 17,
     "metadata": {},
     "output_type": "execute_result"
    },
    {
     "data": {
      "image/png": "[encoded data removed]",
      "text/plain": [
       "<matplotlib.figure.Figure at 0x10ea42668>"
      ]
     },
     "metadata": {},
     "output_type": "display_data"
    }
   ],
   "source": [
    "sns.boxplot(x=y_data[1])\n",
    "plt.xlabel(\"Numero de vueltas transcurridas\")"
   ]
  },
  {
   "cell_type": "markdown",
   "metadata": {},
   "source": [
    "La distribucion parece es aproximadamente simetrica."
   ]
  }
 ],
 "metadata": {
  "kernelspec": {
   "display_name": "Python 3",
   "language": "python",
   "name": "python3"
  },
  "language_info": {
   "codemirror_mode": {
    "name": "ipython",
    "version": 3
   },
   "file_extension": ".py",
   "mimetype": "text/x-python",
   "name": "python",
   "nbconvert_exporter": "python",
   "pygments_lexer": "ipython3",
   "version": "3.5.2"
  }
 },
 "nbformat": 4,
 "nbformat_minor": 2
}
