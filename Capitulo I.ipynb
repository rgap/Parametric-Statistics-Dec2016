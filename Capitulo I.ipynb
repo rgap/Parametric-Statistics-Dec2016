{
 "cells": [
  {
   "cell_type": "markdown",
   "metadata": {},
   "source": [
    "## Problema 6\n",
    "Los siguientes datos corresponden a la resistencia a la tension (100 psi) y dureza (Rockwell E) de aluminio moldeado en matriz. Dibuje un diagrama de dispersion y defina la relacion respectiva:\n",
    "\n",
    "(0.5; 1.62), (1.5; 0.75), (2.0; 0.62), (3.0; 0.46), (2.5; 0.52), (1.0; 1.00), (0.8; 1.35), (1.2; 0.89), (2.8; 0.48), (3.2; 0.43), (1.8; 0.71), (0.3; 1.80). Dibuje un diagrama de dispersión y defina la relación correspondiente."
   ]
  },
  {
   "cell_type": "code",
   "execution_count": 1,
   "metadata": {
    "collapsed": true
   },
   "outputs": [],
   "source": [
    "import pandas as pd\n",
    "import matplotlib.pyplot as plt\n",
    "import seaborn as sns\n",
    "import numpy as np\n",
    "import math\n",
    "%matplotlib inline\n",
    "sns.set(style='whitegrid', rc={\"grid.linewidth\": 0.1})\n",
    "sns.set_context(\"paper\")\n",
    "\n",
    "plt.rc('figure', figsize=(6,3))\n",
    "plt.rc('figure.subplot', wspace=.33)"
   ]
  },
  {
   "cell_type": "code",
   "execution_count": 2,
   "metadata": {
    "collapsed": true
   },
   "outputs": [],
   "source": [
    "data = pd.read_csv(\"data/6.csv\")"
   ]
  },
  {
   "cell_type": "code",
   "execution_count": 3,
   "metadata": {
    "collapsed": false
   },
   "outputs": [
    {
     "data": {
      "image/png": "[encoded data removed]",
      "text/plain": [
       "<matplotlib.figure.Figure at 0x10d8bae48>"
      ]
     },
     "metadata": {},
     "output_type": "display_data"
    }
   ],
   "source": [
    "data.plot(kind='scatter', x='Tension', y='Dureza', title='Tension vs Dureza');"
   ]
  },
  {
   "cell_type": "markdown",
   "metadata": {},
   "source": [
    "A medida que la tension aumenta, la dureza disminuye.\n",
    "\n",
    "Variable independiente: Tension\n",
    "\n",
    "Variable dependiente: Dureza"
   ]
  },
  {
   "cell_type": "markdown",
   "metadata": {},
   "source": [
    "##  Problema 9\n",
    "\n",
    "Los siguientes datos corresponden al octanaje de varias mezclas de gasolina:\n",
    "\n",
    "88.5 87.7 83.4 86.7 87.5 91.5 88.6 100.3 96.5 93.3\n",
    "94.7 91.1 91.0 94.2 87.8 89.9 88.3 87.6 84.3 86.7\n",
    "84.3 86.7 88.2 90.8 88.3 98.8 94.2 92.7 93.2 91.0\n",
    "90.1 93.4 88.5 90.1 89.2 88.3 85.3 87.9 88.6 90.9\n",
    "89.0 96.1 93.3 91.8 92.3 90.4 90.1 93.0 88.7 89.9\n",
    "89.8 89.6 87.4 88.4 88.9 91.2 89.3 94.4 92.7 91.8\n",
    "91.6 90.4 91.1 92.6 89.8 90.6 91.1 90.4 89.3 89.7\n",
    "90.3 91.6 90.5 93.7 92.7 92.2 92.2 91.2 91.0 92.2\n",
    "90.0 90.7\n",
    "\n",
    "Construya una tabla de distribución de frecuencias y un histograma utilizando 8 clases y 16 clases.\n",
    "Compare los histogramas obtenidos en cada caso, ¿los dos histogramas presentan información similar?."
   ]
  },
  {
   "cell_type": "code",
   "execution_count": 4,
   "metadata": {
    "collapsed": true
   },
   "outputs": [],
   "source": [
    "data = pd.read_csv(\"data/9.csv\")"
   ]
  },
  {
   "cell_type": "markdown",
   "metadata": {},
   "source": [
    "#### Con n_classes = 8"
   ]
  },
  {
   "cell_type": "code",
   "execution_count": 5,
   "metadata": {
    "collapsed": true
   },
   "outputs": [],
   "source": [
    "n_classes = 8"
   ]
  },
  {
   "cell_type": "code",
   "execution_count": 6,
   "metadata": {
    "collapsed": false
   },
   "outputs": [
    {
     "data": {
      "text/plain": [
       "(83.383, 85.513]     4\n",
       "(85.513, 87.625]     6\n",
       "(87.625, 89.737]    20\n",
       "(89.737, 91.85]     30\n",
       "(91.85, 93.963]     14\n",
       "(93.963, 96.075]     4\n",
       "(96.075, 98.188]     2\n",
       "(98.188, 100.3]      2\n",
       "Name: Octanaje, dtype: int64"
      ]
     },
     "execution_count": 6,
     "metadata": {},
     "output_type": "execute_result"
    }
   ],
   "source": [
    "cats = pd.cut(data[\"Octanaje\"], n_classes)\n",
    "counts = pd.value_counts(cats).sort_index()\n",
    "counts"
   ]
  },
  {
   "cell_type": "code",
   "execution_count": 7,
   "metadata": {
    "collapsed": true
   },
   "outputs": [],
   "source": [
    "midpoint = [(float(s) + float(e)) / 2 for [s, e] in [v[1:-1].split(\",\") for v in counts.index]]\n",
    "midpoint_col = pd.Series(midpoint, name=\"Midpoint\")"
   ]
  },
  {
   "cell_type": "markdown",
   "metadata": {},
   "source": [
    "**Frequency table**"
   ]
  },
  {
   "cell_type": "code",
   "execution_count": 8,
   "metadata": {
    "collapsed": true
   },
   "outputs": [],
   "source": [
    "freq_table = pd.DataFrame(counts.values, columns=[\"Frequency\"])\n",
    "sample_size = freq_table[\"Frequency\"].sum()\n",
    "freq_table[\"Relative frequency\"] = freq_table[\"Frequency\"] / sample_size\n",
    "freq_table[\"Cumulative frequency\"] = freq_table[\"Frequency\"].cumsum()\n",
    "freq_table[\"Cumumative relative frequency\"] = freq_table[\"Cumulative frequency\"] / sample_size"
   ]
  },
  {
   "cell_type": "code",
   "execution_count": 9,
   "metadata": {
    "collapsed": false
   },
   "outputs": [
    {
     "data": {
      "text/html": [
       "<div>\n",
       "<table border=\"1\" class=\"dataframe\">\n",
       "  <thead>\n",
       "    <tr style=\"text-align: right;\">\n",
       "      <th></th>\n",
       "      <th>Interval</th>\n",
       "      <th>Midpoint</th>\n",
       "      <th>Frequency</th>\n",
       "      <th>Relative frequency</th>\n",
       "      <th>Cumulative frequency</th>\n",
       "      <th>Cumumative relative frequency</th>\n",
       "    </tr>\n",
       "  </thead>\n",
       "  <tbody>\n",
       "    <tr>\n",
       "      <th>0</th>\n",
       "      <td>(83.383, 85.513]</td>\n",
       "      <td>84.4480</td>\n",
       "      <td>4</td>\n",
       "      <td>0.048780</td>\n",
       "      <td>4</td>\n",
       "      <td>0.048780</td>\n",
       "    </tr>\n",
       "    <tr>\n",
       "      <th>1</th>\n",
       "      <td>(85.513, 87.625]</td>\n",
       "      <td>86.5690</td>\n",
       "      <td>6</td>\n",
       "      <td>0.073171</td>\n",
       "      <td>10</td>\n",
       "      <td>0.121951</td>\n",
       "    </tr>\n",
       "    <tr>\n",
       "      <th>2</th>\n",
       "      <td>(87.625, 89.737]</td>\n",
       "      <td>88.6810</td>\n",
       "      <td>20</td>\n",
       "      <td>0.243902</td>\n",
       "      <td>30</td>\n",
       "      <td>0.365854</td>\n",
       "    </tr>\n",
       "    <tr>\n",
       "      <th>3</th>\n",
       "      <td>(89.737, 91.85]</td>\n",
       "      <td>90.7935</td>\n",
       "      <td>30</td>\n",
       "      <td>0.365854</td>\n",
       "      <td>60</td>\n",
       "      <td>0.731707</td>\n",
       "    </tr>\n",
       "    <tr>\n",
       "      <th>4</th>\n",
       "      <td>(91.85, 93.963]</td>\n",
       "      <td>92.9065</td>\n",
       "      <td>14</td>\n",
       "      <td>0.170732</td>\n",
       "      <td>74</td>\n",
       "      <td>0.902439</td>\n",
       "    </tr>\n",
       "    <tr>\n",
       "      <th>5</th>\n",
       "      <td>(93.963, 96.075]</td>\n",
       "      <td>95.0190</td>\n",
       "      <td>4</td>\n",
       "      <td>0.048780</td>\n",
       "      <td>78</td>\n",
       "      <td>0.951220</td>\n",
       "    </tr>\n",
       "    <tr>\n",
       "      <th>6</th>\n",
       "      <td>(96.075, 98.188]</td>\n",
       "      <td>97.1315</td>\n",
       "      <td>2</td>\n",
       "      <td>0.024390</td>\n",
       "      <td>80</td>\n",
       "      <td>0.975610</td>\n",
       "    </tr>\n",
       "    <tr>\n",
       "      <th>7</th>\n",
       "      <td>(98.188, 100.3]</td>\n",
       "      <td>99.2440</td>\n",
       "      <td>2</td>\n",
       "      <td>0.024390</td>\n",
       "      <td>82</td>\n",
       "      <td>1.000000</td>\n",
       "    </tr>\n",
       "  </tbody>\n",
       "</table>\n",
       "</div>"
      ],
      "text/plain": [
       "           Interval  Midpoint  Frequency  Relative frequency  \\\n",
       "0  (83.383, 85.513]   84.4480          4            0.048780   \n",
       "1  (85.513, 87.625]   86.5690          6            0.073171   \n",
       "2  (87.625, 89.737]   88.6810         20            0.243902   \n",
       "3   (89.737, 91.85]   90.7935         30            0.365854   \n",
       "4   (91.85, 93.963]   92.9065         14            0.170732   \n",
       "5  (93.963, 96.075]   95.0190          4            0.048780   \n",
       "6  (96.075, 98.188]   97.1315          2            0.024390   \n",
       "7   (98.188, 100.3]   99.2440          2            0.024390   \n",
       "\n",
       "   Cumulative frequency  Cumumative relative frequency  \n",
       "0                     4                       0.048780  \n",
       "1                    10                       0.121951  \n",
       "2                    30                       0.365854  \n",
       "3                    60                       0.731707  \n",
       "4                    74                       0.902439  \n",
       "5                    78                       0.951220  \n",
       "6                    80                       0.975610  \n",
       "7                    82                       1.000000  "
      ]
     },
     "execution_count": 9,
     "metadata": {},
     "output_type": "execute_result"
    }
   ],
   "source": [
    "pd.concat([pd.Series(counts.index, name=\"Interval\"),\n",
    "           midpoint_col,\n",
    "           freq_table], axis=1)"
   ]
  },
  {
   "cell_type": "code",
   "execution_count": 10,
   "metadata": {
    "collapsed": false
   },
   "outputs": [
    {
     "data": {
      "text/plain": [
       "<matplotlib.axes._subplots.AxesSubplot at 0x111c13ac8>"
      ]
     },
     "execution_count": 10,
     "metadata": {},
     "output_type": "execute_result"
    },
    {
     "data": {
      "image/png": "[encoded data removed]",
      "text/plain": [
       "<matplotlib.figure.Figure at 0x111c7a1d0>"
      ]
     },
     "metadata": {},
     "output_type": "display_data"
    }
   ],
   "source": [
    "data[\"Octanaje\"].hist(bins=n_classes)"
   ]
  },
  {
   "cell_type": "markdown",
   "metadata": {},
   "source": [
    "#### Con n_classes = 16"
   ]
  },
  {
   "cell_type": "code",
   "execution_count": 11,
   "metadata": {
    "collapsed": false
   },
   "outputs": [
    {
     "data": {
      "text/html": [
       "<div>\n",
       "<table border=\"1\" class=\"dataframe\">\n",
       "  <thead>\n",
       "    <tr style=\"text-align: right;\">\n",
       "      <th></th>\n",
       "      <th>Interval</th>\n",
       "      <th>Midpoint</th>\n",
       "      <th>Frequency</th>\n",
       "      <th>Relative frequency</th>\n",
       "      <th>Cumulative frequency</th>\n",
       "      <th>Cumumative relative frequency</th>\n",
       "    </tr>\n",
       "  </thead>\n",
       "  <tbody>\n",
       "    <tr>\n",
       "      <th>0</th>\n",
       "      <td>(83.383, 84.456]</td>\n",
       "      <td>83.91950</td>\n",
       "      <td>3</td>\n",
       "      <td>0.036585</td>\n",
       "      <td>3</td>\n",
       "      <td>0.036585</td>\n",
       "    </tr>\n",
       "    <tr>\n",
       "      <th>1</th>\n",
       "      <td>(84.456, 85.513]</td>\n",
       "      <td>84.98450</td>\n",
       "      <td>1</td>\n",
       "      <td>0.012195</td>\n",
       "      <td>4</td>\n",
       "      <td>0.048780</td>\n",
       "    </tr>\n",
       "    <tr>\n",
       "      <th>2</th>\n",
       "      <td>(85.513, 86.569]</td>\n",
       "      <td>86.04100</td>\n",
       "      <td>0</td>\n",
       "      <td>0.000000</td>\n",
       "      <td>4</td>\n",
       "      <td>0.048780</td>\n",
       "    </tr>\n",
       "    <tr>\n",
       "      <th>3</th>\n",
       "      <td>(86.569, 87.625]</td>\n",
       "      <td>87.09700</td>\n",
       "      <td>6</td>\n",
       "      <td>0.073171</td>\n",
       "      <td>10</td>\n",
       "      <td>0.121951</td>\n",
       "    </tr>\n",
       "    <tr>\n",
       "      <th>4</th>\n",
       "      <td>(87.625, 88.681]</td>\n",
       "      <td>88.15300</td>\n",
       "      <td>12</td>\n",
       "      <td>0.146341</td>\n",
       "      <td>22</td>\n",
       "      <td>0.268293</td>\n",
       "    </tr>\n",
       "    <tr>\n",
       "      <th>5</th>\n",
       "      <td>(88.681, 89.737]</td>\n",
       "      <td>89.20900</td>\n",
       "      <td>8</td>\n",
       "      <td>0.097561</td>\n",
       "      <td>30</td>\n",
       "      <td>0.365854</td>\n",
       "    </tr>\n",
       "    <tr>\n",
       "      <th>6</th>\n",
       "      <td>(89.737, 90.794]</td>\n",
       "      <td>90.26550</td>\n",
       "      <td>15</td>\n",
       "      <td>0.182927</td>\n",
       "      <td>45</td>\n",
       "      <td>0.548780</td>\n",
       "    </tr>\n",
       "    <tr>\n",
       "      <th>7</th>\n",
       "      <td>(90.794, 91.85]</td>\n",
       "      <td>91.32200</td>\n",
       "      <td>15</td>\n",
       "      <td>0.182927</td>\n",
       "      <td>60</td>\n",
       "      <td>0.731707</td>\n",
       "    </tr>\n",
       "    <tr>\n",
       "      <th>8</th>\n",
       "      <td>(91.85, 92.906]</td>\n",
       "      <td>92.37800</td>\n",
       "      <td>8</td>\n",
       "      <td>0.097561</td>\n",
       "      <td>68</td>\n",
       "      <td>0.829268</td>\n",
       "    </tr>\n",
       "    <tr>\n",
       "      <th>9</th>\n",
       "      <td>(92.906, 93.963]</td>\n",
       "      <td>93.43450</td>\n",
       "      <td>6</td>\n",
       "      <td>0.073171</td>\n",
       "      <td>74</td>\n",
       "      <td>0.902439</td>\n",
       "    </tr>\n",
       "    <tr>\n",
       "      <th>10</th>\n",
       "      <td>(93.963, 95.0187]</td>\n",
       "      <td>94.49085</td>\n",
       "      <td>4</td>\n",
       "      <td>0.048780</td>\n",
       "      <td>78</td>\n",
       "      <td>0.951220</td>\n",
       "    </tr>\n",
       "    <tr>\n",
       "      <th>11</th>\n",
       "      <td>(95.0187, 96.075]</td>\n",
       "      <td>95.54685</td>\n",
       "      <td>0</td>\n",
       "      <td>0.000000</td>\n",
       "      <td>78</td>\n",
       "      <td>0.951220</td>\n",
       "    </tr>\n",
       "    <tr>\n",
       "      <th>12</th>\n",
       "      <td>(96.075, 97.131]</td>\n",
       "      <td>96.60300</td>\n",
       "      <td>2</td>\n",
       "      <td>0.024390</td>\n",
       "      <td>80</td>\n",
       "      <td>0.975610</td>\n",
       "    </tr>\n",
       "    <tr>\n",
       "      <th>13</th>\n",
       "      <td>(97.131, 98.188]</td>\n",
       "      <td>97.65950</td>\n",
       "      <td>0</td>\n",
       "      <td>0.000000</td>\n",
       "      <td>80</td>\n",
       "      <td>0.975610</td>\n",
       "    </tr>\n",
       "    <tr>\n",
       "      <th>14</th>\n",
       "      <td>(98.188, 99.244]</td>\n",
       "      <td>98.71600</td>\n",
       "      <td>1</td>\n",
       "      <td>0.012195</td>\n",
       "      <td>81</td>\n",
       "      <td>0.987805</td>\n",
       "    </tr>\n",
       "    <tr>\n",
       "      <th>15</th>\n",
       "      <td>(99.244, 100.3]</td>\n",
       "      <td>99.77200</td>\n",
       "      <td>1</td>\n",
       "      <td>0.012195</td>\n",
       "      <td>82</td>\n",
       "      <td>1.000000</td>\n",
       "    </tr>\n",
       "  </tbody>\n",
       "</table>\n",
       "</div>"
      ],
      "text/plain": [
       "             Interval  Midpoint  Frequency  Relative frequency  \\\n",
       "0    (83.383, 84.456]  83.91950          3            0.036585   \n",
       "1    (84.456, 85.513]  84.98450          1            0.012195   \n",
       "2    (85.513, 86.569]  86.04100          0            0.000000   \n",
       "3    (86.569, 87.625]  87.09700          6            0.073171   \n",
       "4    (87.625, 88.681]  88.15300         12            0.146341   \n",
       "5    (88.681, 89.737]  89.20900          8            0.097561   \n",
       "6    (89.737, 90.794]  90.26550         15            0.182927   \n",
       "7     (90.794, 91.85]  91.32200         15            0.182927   \n",
       "8     (91.85, 92.906]  92.37800          8            0.097561   \n",
       "9    (92.906, 93.963]  93.43450          6            0.073171   \n",
       "10  (93.963, 95.0187]  94.49085          4            0.048780   \n",
       "11  (95.0187, 96.075]  95.54685          0            0.000000   \n",
       "12   (96.075, 97.131]  96.60300          2            0.024390   \n",
       "13   (97.131, 98.188]  97.65950          0            0.000000   \n",
       "14   (98.188, 99.244]  98.71600          1            0.012195   \n",
       "15    (99.244, 100.3]  99.77200          1            0.012195   \n",
       "\n",
       "    Cumulative frequency  Cumumative relative frequency  \n",
       "0                      3                       0.036585  \n",
       "1                      4                       0.048780  \n",
       "2                      4                       0.048780  \n",
       "3                     10                       0.121951  \n",
       "4                     22                       0.268293  \n",
       "5                     30                       0.365854  \n",
       "6                     45                       0.548780  \n",
       "7                     60                       0.731707  \n",
       "8                     68                       0.829268  \n",
       "9                     74                       0.902439  \n",
       "10                    78                       0.951220  \n",
       "11                    78                       0.951220  \n",
       "12                    80                       0.975610  \n",
       "13                    80                       0.975610  \n",
       "14                    81                       0.987805  \n",
       "15                    82                       1.000000  "
      ]
     },
     "execution_count": 11,
     "metadata": {},
     "output_type": "execute_result"
    }
   ],
   "source": [
    "def compute_freq_table(data, column, n_classes):\n",
    "    cats = pd.cut(data[column], n_classes)\n",
    "    counts = pd.value_counts(cats).sort_index()\n",
    "    midpoint = [(float(s) + float(e)) / 2 for [s, e] in [v[1:-1].split(\",\") for v in counts.index]]\n",
    "    midpoint_col = pd.Series(midpoint, name=\"Midpoint\")\n",
    "    freq_table = pd.DataFrame(counts.values, columns=[\"Frequency\"])\n",
    "    sample_size = freq_table[\"Frequency\"].sum()\n",
    "    freq_table[\"Relative frequency\"] = freq_table[\"Frequency\"] / sample_size\n",
    "    freq_table[\"Cumulative frequency\"] = freq_table[\"Frequency\"].cumsum()\n",
    "    freq_table[\"Cumumative relative frequency\"] = freq_table[\"Cumulative frequency\"] / sample_size\n",
    "\n",
    "    return pd.concat([pd.Series(counts.index, name=\"Interval\"),\n",
    "                      midpoint_col,\n",
    "                      freq_table], axis=1)\n",
    "\n",
    "n_classes = 16\n",
    "compute_freq_table(data, \"Octanaje\", n_classes)"
   ]
  },
  {
   "cell_type": "code",
   "execution_count": 12,
   "metadata": {
    "collapsed": false
   },
   "outputs": [
    {
     "data": {
      "text/plain": [
       "<matplotlib.axes._subplots.AxesSubplot at 0x111e3c1d0>"
      ]
     },
     "execution_count": 12,
     "metadata": {},
     "output_type": "execute_result"
    },
    {
     "data": {
      "image/png": "[encoded data removed]",
      "text/plain": [
       "<matplotlib.figure.Figure at 0x111e4d080>"
      ]
     },
     "metadata": {},
     "output_type": "display_data"
    }
   ],
   "source": [
    "data[\"Octanaje\"].hist(bins=n_classes)"
   ]
  },
  {
   "cell_type": "markdown",
   "metadata": {},
   "source": [
    "Viendo ambas distribuciones, los dos histogramas presentan la misma informacion. Por ejemplo, el 50% de los datos presenta valores menores aproximadamente menores a 89. El segundo histograma presenta los datos mas dispersos que el primero."
   ]
  },
  {
   "cell_type": "markdown",
   "metadata": {},
   "source": [
    "##  Problema 10\n",
    "\n",
    "Los siguientes datos son mediciones de viscosidad de un producto químico tomadas cada hora (de arriba\n",
    "abajo y de izquierda a derecha):\n",
    "\n",
    "47.9 48.8 48.6 43.2 43.0\n",
    "47.9 48.1 48.0 43.0 42.8\n",
    "48.6 48.3 47.9 43.5 43.1\n",
    "48.0 47.2 48.3 43.1 43.2\n",
    "48.4 48.9 48.5 43.0 43.6\n",
    "48.1 48.6 48.1 42.9 43.2\n",
    "48.0 48.0 48.0 43.6 43.5\n",
    "48.6 47.5 48.3 43.3 43.0\n",
    "\n",
    "Construya una gráfica de series de tiempo para estos datos."
   ]
  },
  {
   "cell_type": "code",
   "execution_count": 13,
   "metadata": {
    "collapsed": false
   },
   "outputs": [
    {
     "data": {
      "text/plain": [
       "[<matplotlib.lines.Line2D at 0x111bffdd8>]"
      ]
     },
     "execution_count": 13,
     "metadata": {},
     "output_type": "execute_result"
    },
    {
     "data": {
      "image/png": "[encoded data removed]",
      "text/plain": [
       "<matplotlib.figure.Figure at 0x111fb3d30>"
      ]
     },
     "metadata": {},
     "output_type": "display_data"
    }
   ],
   "source": [
    "ts = pd.read_csv(\"data/10.csv\")\n",
    "\n",
    "fig, ax1 = plt.subplots()\n",
    "ax1.plot(ts.index, ts, 'b-')       \n",
    "ax1.plot(ts.index, ts,'r^')"
   ]
  }
 ],
 "metadata": {
  "kernelspec": {
   "display_name": "Python 3",
   "language": "python",
   "name": "python3"
  },
  "language_info": {
   "codemirror_mode": {
    "name": "ipython",
    "version": 3
   },
   "file_extension": ".py",
   "mimetype": "text/x-python",
   "name": "python",
   "nbconvert_exporter": "python",
   "pygments_lexer": "ipython3",
   "version": "3.5.2"
  }
 },
 "nbformat": 4,
 "nbformat_minor": 2
}
