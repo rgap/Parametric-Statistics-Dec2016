{
 "cells": [
  {
   "cell_type": "code",
   "execution_count": 1,
   "metadata": {
    "collapsed": true
   },
   "outputs": [],
   "source": [
    "import pandas as pd\n",
    "import matplotlib.pyplot as plt\n",
    "import seaborn as sns\n",
    "import numpy as np\n",
    "from scipy.stats import norm\n",
    "from scipy.stats import t\n",
    "import math\n",
    "%matplotlib inline\n",
    "sns.set(style='whitegrid', rc={\"grid.linewidth\": 0.1})\n",
    "sns.set_context(\"paper\")\n",
    "\n",
    "plt.rc('figure', figsize=(6,3))\n",
    "plt.rc('figure.subplot', wspace=.33)"
   ]
  },
  {
   "cell_type": "markdown",
   "metadata": {},
   "source": [
    "##  Problema 16\n",
    "\n",
    "Las medidas de los diámetros de una muestra al azar de 200 cojinetes de bolas hechos por una determinada\n",
    "máquina durante una semana dieron un promedio de 0.824 pulgadas y una desviación estándar de 0.042\n",
    "pulgadas. Hallar los límites de confianza para el diámetro medio de todos los cojinetes al:\n",
    "\n",
    "a) 95 %; b) 99 %\n",
    "\n",
    "Rpta.: a) [0.818; 0.8298]; b) [0.816; 0.832]"
   ]
  },
  {
   "cell_type": "code",
   "execution_count": 2,
   "metadata": {
    "collapsed": true
   },
   "outputs": [],
   "source": [
    "n = 200\n",
    "mean_sample = 0.824\n",
    "sigma_sample = 0.042"
   ]
  },
  {
   "cell_type": "markdown",
   "metadata": {},
   "source": [
    "El intervalo \n",
    "\n",
    "$$\n",
    "\\bar{X} \\pm z(\\alpha/2) \\frac{\\sigma}{\\sqrt{n}}\n",
    "$$\n",
    "\n",
    "Reemplazando\n",
    "\n",
    "$$\n",
    "\\bar{X} \\pm z(0.025) \\frac{0.042}{\\sqrt{200}}\n",
    "$$"
   ]
  },
  {
   "cell_type": "code",
   "execution_count": 3,
   "metadata": {
    "collapsed": false
   },
   "outputs": [
    {
     "data": {
      "text/plain": [
       "[0.82982079606226855, 0.81817920393773136]"
      ]
     },
     "execution_count": 3,
     "metadata": {},
     "output_type": "execute_result"
    }
   ],
   "source": [
    "[mean_sample - norm.ppf(0.025) * sigma_sample / math.sqrt(n),\n",
    " mean_sample + norm.ppf(0.025) * sigma_sample / math.sqrt(n)]"
   ]
  },
  {
   "cell_type": "markdown",
   "metadata": {},
   "source": [
    "Los cojinetes tendran diametro en este rango el 95% de las veces."
   ]
  },
  {
   "cell_type": "code",
   "execution_count": 4,
   "metadata": {
    "collapsed": false
   },
   "outputs": [
    {
     "data": {
      "text/plain": [
       "[0.83164982274441746, 0.81635017725558245]"
      ]
     },
     "execution_count": 4,
     "metadata": {},
     "output_type": "execute_result"
    }
   ],
   "source": [
    "[mean_sample - norm.ppf(0.005) * sigma_sample / math.sqrt(n),\n",
    " mean_sample + norm.ppf(0.005) * sigma_sample / math.sqrt(n)]"
   ]
  },
  {
   "cell_type": "markdown",
   "metadata": {},
   "source": [
    "Los cojinetes tendran diametro en este rango el 99% de las veces."
   ]
  },
  {
   "cell_type": "markdown",
   "metadata": {},
   "source": [
    "##  Problema 22\n",
    "\n",
    "Se toma 25 muestras de una población normal con media 100 y desviación estándar 10 ¿cuál es la\n",
    "probabilidad de que la media muestral se encuentre en el intervalo $\\mu - 1.8\\sigma$ y $\\mu + 1.0\\sigma$.\n",
    "\n",
    "Rpta.: 1.0"
   ]
  },
  {
   "cell_type": "code",
   "execution_count": 5,
   "metadata": {
    "collapsed": true
   },
   "outputs": [],
   "source": [
    "n = 25\n",
    "mean_sample = 100\n",
    "sigma_sample = 10"
   ]
  },
  {
   "cell_type": "markdown",
   "metadata": {},
   "source": [
    "La probabilidad de que la media muestral se encuentre en el intervalo\n",
    "\n",
    "$$\n",
    "P(100 - 1.8*10 < x < 100 + 1.0*10)\n",
    "$$\n",
    "\n",
    "es"
   ]
  },
  {
   "cell_type": "code",
   "execution_count": 6,
   "metadata": {
    "collapsed": false
   },
   "outputs": [
    {
     "data": {
      "text/plain": [
       "0.99999971334842808"
      ]
     },
     "execution_count": 6,
     "metadata": {},
     "output_type": "execute_result"
    }
   ],
   "source": [
    "p = norm.cdf((100 + 1.0*10 - mean_sample)/(sigma_sample/5)) - norm.cdf((100 - 1.8*10 - mean_sample)/(sigma_sample/5))\n",
    "p"
   ]
  },
  {
   "cell_type": "markdown",
   "metadata": {},
   "source": [
    "Se utilizo $z = ((x - \\mu)/(\\sigma/\\sqrt{n}))$ para calcular las probabilidades $P(x < 100 + 1.0*10)$ y $P(x < 100 - 1.8*10)$"
   ]
  },
  {
   "cell_type": "markdown",
   "metadata": {},
   "source": [
    "##  Problema 26\n",
    "\n",
    "En un proceso químico se fabrica cierto polímero. Normalmente, se hacen mediciones de viscosidad\n",
    "después de cada corrida, y la experiencia acumulada indican que la variabilidad del proceso es muy\n",
    "estable con $\\sigma = 20$. Las siguientes son 15 mediciones de viscosidad por corrida:\n",
    "\n",
    "724; 718; 776; 760; 745; 759; 795; 756; 742; 740; 761; 749; 739; 747; 742.\n",
    "\n",
    "Encuentre un intervalo de confianza bilateral al 90% para la viscosidad media del polímero.\n",
    "\n",
    "Rpta.: a) $750.2 \\pm 8.495$"
   ]
  },
  {
   "cell_type": "code",
   "execution_count": 7,
   "metadata": {
    "collapsed": true
   },
   "outputs": [],
   "source": [
    "data = pd.Series([724, 718, 776, 760, 745, 759, 795, 756, 742, 740, 761, 749, 739, 747, 742])\n",
    "mean_sample = data.mean()\n",
    "sigma_estable = 20\n",
    "\n",
    "n = 15"
   ]
  },
  {
   "cell_type": "code",
   "execution_count": 8,
   "metadata": {
    "collapsed": false
   },
   "outputs": [
    {
     "data": {
      "text/plain": [
       "750.20000000000005"
      ]
     },
     "execution_count": 8,
     "metadata": {},
     "output_type": "execute_result"
    }
   ],
   "source": [
    "mean_sample"
   ]
  },
  {
   "cell_type": "code",
   "execution_count": 9,
   "metadata": {
    "collapsed": false
   },
   "outputs": [
    {
     "data": {
      "text/plain": [
       "-8.4939876055092292"
      ]
     },
     "execution_count": 9,
     "metadata": {},
     "output_type": "execute_result"
    }
   ],
   "source": [
    "norm.ppf(0.05) * sigma_estable / math.sqrt(n)"
   ]
  },
  {
   "cell_type": "markdown",
   "metadata": {},
   "source": [
    "La viscocidad media real de la poblacion se encuentra dentro del intervalo $750.2 \\pm 8.49$"
   ]
  },
  {
   "cell_type": "markdown",
   "metadata": {},
   "source": [
    "##  Problema 28\n",
    "\n",
    "El administrador de un lote de automóviles prueba dos marcas de llantas radiales. Para ello asigna al azar\n",
    "una llanta de cada marca a las dos ruedas posteriores de ocho automóviles y luego corre los automóviles\n",
    "hasta que las llantas se desgastan. Los datos obtenidos en kilómetros son :\n",
    "\n",
    "``\n",
    "Automóvil Marca 1 Marca 2\n",
    "1 36925 34318\n",
    "2 45300 42280\n",
    "3 36240 35500\n",
    "4 32100 31950\n",
    "5 37210 38015\n",
    "6 48360 47800\n",
    "7 38200 37810\n",
    "8 33500 32215\n",
    "``\n",
    "\n",
    "¿Qué llanta cree que preferirá el administrador?\n",
    "\n",
    "Rpta.: [-3164.27; 5151.07]; Ambas rinden igual."
   ]
  },
  {
   "cell_type": "markdown",
   "metadata": {},
   "source": [
    "De acuerdo con el libro, se quiere determinar si existe diferencia, en promedio, entre las dos marcas.\n",
    "\n",
    "El parametro de interes es la diferencia\n",
    "\n",
    "$$\n",
    "\\mu_D = \\mu_1 - \\mu_2 = 0\n",
    "$$\n",
    "\n",
    "Tamano de la muestra $n < 30$ asi que se utiliza la distribucion t\n",
    "\n",
    "Se agrega una columna de diferencias"
   ]
  },
  {
   "cell_type": "code",
   "execution_count": 10,
   "metadata": {
    "collapsed": true
   },
   "outputs": [],
   "source": [
    "data = pd.read_csv(\"data/3_28.csv\")"
   ]
  },
  {
   "cell_type": "code",
   "execution_count": 11,
   "metadata": {
    "collapsed": false
   },
   "outputs": [
    {
     "data": {
      "text/html": [
       "<div>\n",
       "<table border=\"1\" class=\"dataframe\">\n",
       "  <thead>\n",
       "    <tr style=\"text-align: right;\">\n",
       "      <th></th>\n",
       "      <th>Automovil</th>\n",
       "      <th>Marca1</th>\n",
       "      <th>Marca2</th>\n",
       "      <th>D</th>\n",
       "    </tr>\n",
       "  </thead>\n",
       "  <tbody>\n",
       "    <tr>\n",
       "      <th>0</th>\n",
       "      <td>1</td>\n",
       "      <td>36925</td>\n",
       "      <td>34318</td>\n",
       "      <td>2607</td>\n",
       "    </tr>\n",
       "    <tr>\n",
       "      <th>1</th>\n",
       "      <td>2</td>\n",
       "      <td>45300</td>\n",
       "      <td>42280</td>\n",
       "      <td>3020</td>\n",
       "    </tr>\n",
       "    <tr>\n",
       "      <th>2</th>\n",
       "      <td>3</td>\n",
       "      <td>36240</td>\n",
       "      <td>35500</td>\n",
       "      <td>740</td>\n",
       "    </tr>\n",
       "    <tr>\n",
       "      <th>3</th>\n",
       "      <td>4</td>\n",
       "      <td>32100</td>\n",
       "      <td>31950</td>\n",
       "      <td>150</td>\n",
       "    </tr>\n",
       "    <tr>\n",
       "      <th>4</th>\n",
       "      <td>5</td>\n",
       "      <td>37210</td>\n",
       "      <td>38015</td>\n",
       "      <td>-805</td>\n",
       "    </tr>\n",
       "    <tr>\n",
       "      <th>5</th>\n",
       "      <td>6</td>\n",
       "      <td>48360</td>\n",
       "      <td>47800</td>\n",
       "      <td>560</td>\n",
       "    </tr>\n",
       "    <tr>\n",
       "      <th>6</th>\n",
       "      <td>7</td>\n",
       "      <td>38200</td>\n",
       "      <td>37810</td>\n",
       "      <td>390</td>\n",
       "    </tr>\n",
       "    <tr>\n",
       "      <th>7</th>\n",
       "      <td>8</td>\n",
       "      <td>33500</td>\n",
       "      <td>32215</td>\n",
       "      <td>1285</td>\n",
       "    </tr>\n",
       "  </tbody>\n",
       "</table>\n",
       "</div>"
      ],
      "text/plain": [
       "   Automovil  Marca1  Marca2     D\n",
       "0          1   36925   34318  2607\n",
       "1          2   45300   42280  3020\n",
       "2          3   36240   35500   740\n",
       "3          4   32100   31950   150\n",
       "4          5   37210   38015  -805\n",
       "5          6   48360   47800   560\n",
       "6          7   38200   37810   390\n",
       "7          8   33500   32215  1285"
      ]
     },
     "execution_count": 11,
     "metadata": {},
     "output_type": "execute_result"
    }
   ],
   "source": [
    "def D(dataframe_row):\n",
    "    return dataframe_row[\"Marca1\"] - dataframe_row[\"Marca2\"]\n",
    "\n",
    "function = D\n",
    "data.loc[:,function.__name__] = data.apply(lambda x: function(x), axis=1)\n",
    "\n",
    "data"
   ]
  },
  {
   "cell_type": "markdown",
   "metadata": {},
   "source": [
    "**El intervalo de confianza**"
   ]
  },
  {
   "cell_type": "markdown",
   "metadata": {},
   "source": [
    "$$\n",
    "\\bar{d} - t_{\\alpha/2, n -1} \\Bigg(\\frac{S_d}{\\sqrt{n}}\\Bigg) \\leq \\mu_d \\leq \\bar{d} + t_{\\alpha/2, n -1} \\Bigg(\\frac{S_d}{\\sqrt{n}}\\Bigg)\n",
    "$$\n",
    "\n",
    "Si este intervalo incluye el valor 0, entonces las dos marcas serian iguales con confiabilidad de $100(1 - \\alpha)$%\n",
    "\n",
    "Se considera una confianza de 99%\n",
    "\n",
    "Es decir $\\alpha = 0.01$"
   ]
  },
  {
   "cell_type": "code",
   "execution_count": 12,
   "metadata": {
    "collapsed": false
   },
   "outputs": [
    {
     "name": "stdout",
     "output_type": "stream",
     "text": [
      "993.375\n",
      "1273.77660494\n"
     ]
    }
   ],
   "source": [
    "n = 8\n",
    "d_mean = data.D.mean()\n",
    "print(d_mean)\n",
    "d_std = data.D.std()\n",
    "print(d_std)"
   ]
  },
  {
   "cell_type": "code",
   "execution_count": 13,
   "metadata": {
    "collapsed": false
   },
   "outputs": [
    {
     "data": {
      "text/plain": [
       "-3.4994832973505039"
      ]
     },
     "execution_count": 13,
     "metadata": {},
     "output_type": "execute_result"
    }
   ],
   "source": [
    "alpha = 0.01\n",
    "t.ppf(alpha/2, n-1)"
   ]
  },
  {
   "cell_type": "code",
   "execution_count": 14,
   "metadata": {
    "collapsed": false
   },
   "outputs": [
    {
     "data": {
      "text/plain": [
       "[-582.61043534476858, 2569.3604353447686]"
      ]
     },
     "execution_count": 14,
     "metadata": {},
     "output_type": "execute_result"
    }
   ],
   "source": [
    "from scipy.stats import t\n",
    "alpha = 0.01\n",
    "interval = [d_mean - abs(t.ppf(alpha/2, n-1)) * (d_std/math.sqrt(n)),\n",
    " d_mean + abs(t.ppf(alpha/2, n-1) * (d_std/math.sqrt(n)))]\n",
    "interval"
   ]
  },
  {
   "cell_type": "markdown",
   "metadata": {},
   "source": [
    "El intervalo contiene 0, entonces no hay diferencia entre las dos marcas con una confiabilidad de 99%. Rinden igual."
   ]
  },
  {
   "cell_type": "markdown",
   "metadata": {},
   "source": [
    "##  Problema 31\n",
    "\n",
    "La desviación estándar de la duración de 10 bombillas fabricadas por una compañía es de 120 horas. Hallar\n",
    "los límites de confianza para la desviación estándar de todas las bombillas fabricadas por la compañía al:\n",
    "\n",
    "a) 95 %; b) 99 %.\n",
    "\n",
    "Resolver este problema si para 25 bombillas se encuentra s = 120 horas.\n",
    "\n",
    "Rpta.: a) [82.54; 219]; [93.7; 166.38]"
   ]
  },
  {
   "cell_type": "code",
   "execution_count": 15,
   "metadata": {
    "collapsed": true
   },
   "outputs": [],
   "source": [
    "n = 25\n",
    "sigma = 120"
   ]
  },
  {
   "cell_type": "markdown",
   "metadata": {},
   "source": [
    "**Limite de confianza al 95%**\n",
    "\n",
    "No se conoce la media, solo $\\sigma$\n",
    "\n",
    "El intervalo de confianza se encuentra calculando\n",
    "\n",
    "$$\n",
    "\\frac{s\\sqrt{n - 1}}{\\chi_{1 - \\alpha/2, n - 1}} < \\sigma < \\frac{s\\sqrt{n - 1}}{\\chi_{\\alpha/2, n - 1}}\n",
    "$$"
   ]
  },
  {
   "cell_type": "code",
   "execution_count": 16,
   "metadata": {
    "collapsed": false,
    "scrolled": true
   },
   "outputs": [
    {
     "data": {
      "text/plain": [
       "[14.9343661194101, 47.405081622268206]"
      ]
     },
     "execution_count": 16,
     "metadata": {},
     "output_type": "execute_result"
    }
   ],
   "source": [
    "from scipy.stats import chi2\n",
    "alpha = 0.05\n",
    "[sigma*math.sqrt(n-1)/chi2.ppf(1 - alpha/2, n-1), sigma*math.sqrt(n-1)/chi2.ppf(alpha/2, n-1)]"
   ]
  },
  {
   "cell_type": "markdown",
   "metadata": {},
   "source": [
    "**Limite al 99%**"
   ]
  },
  {
   "cell_type": "code",
   "execution_count": 17,
   "metadata": {
    "collapsed": false
   },
   "outputs": [
    {
     "data": {
      "text/plain": [
       "[12.90379148219237, 59.464257862681045]"
      ]
     },
     "execution_count": 17,
     "metadata": {},
     "output_type": "execute_result"
    }
   ],
   "source": [
    "alpha = 0.01\n",
    "[sigma*math.sqrt(n-1)/chi2.ppf(1 - alpha/2, n-1), sigma*math.sqrt(n-1)/chi2.ppf(alpha/2, n-1)]"
   ]
  }
 ],
 "metadata": {
  "kernelspec": {
   "display_name": "Python 3",
   "language": "python",
   "name": "python3"
  },
  "language_info": {
   "codemirror_mode": {
    "name": "ipython",
    "version": 3
   },
   "file_extension": ".py",
   "mimetype": "text/x-python",
   "name": "python",
   "nbconvert_exporter": "python",
   "pygments_lexer": "ipython3",
   "version": "3.5.2"
  }
 },
 "nbformat": 4,
 "nbformat_minor": 2
}
