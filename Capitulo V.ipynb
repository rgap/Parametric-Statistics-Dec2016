{
 "cells": [
  {
   "cell_type": "code",
   "execution_count": 1,
   "metadata": {
    "collapsed": true
   },
   "outputs": [],
   "source": [
    "import pandas as pd\n",
    "import matplotlib.pyplot as plt\n",
    "import seaborn as sns\n",
    "import numpy as np\n",
    "from scipy.stats import norm\n",
    "import math\n",
    "%matplotlib inline\n",
    "sns.set(style='whitegrid', rc={\"grid.linewidth\": 0.1})\n",
    "sns.set_context(\"paper\")\n",
    "\n",
    "plt.rc('figure', figsize=(6,3))\n",
    "plt.rc('figure.subplot', wspace=.33)"
   ]
  },
  {
   "cell_type": "markdown",
   "metadata": {},
   "source": [
    "##  Problema 10\n",
    "\n",
    "Ajuste el modelo de regresión polinomial de segundo orden utilizando los siguientes datos:\n",
    "\n",
    "![Image](images/3.png)"
   ]
  },
  {
   "cell_type": "code",
   "execution_count": 2,
   "metadata": {
    "collapsed": false
   },
   "outputs": [],
   "source": [
    "import statsmodels.formula.api as smf\n",
    "\n",
    "data = pd.read_csv(\"data/5_10.csv\")"
   ]
  },
  {
   "cell_type": "code",
   "execution_count": 3,
   "metadata": {
    "collapsed": false
   },
   "outputs": [],
   "source": [
    "mod = smf.ols(formula='Y ~ X1 + X2 + I(X1**2) + I(X2**2) + I(X1*X2)', data=data)\n",
    "res = mod.fit()"
   ]
  },
  {
   "cell_type": "code",
   "execution_count": 4,
   "metadata": {
    "collapsed": false,
    "scrolled": false
   },
   "outputs": [
    {
     "name": "stderr",
     "output_type": "stream",
     "text": [
      "/Users/rgap/.virtualenvs/stats/lib/python3.5/site-packages/scipy/stats/stats.py:1327: UserWarning: kurtosistest only valid for n>=20 ... continuing anyway, n=12\n",
      "  \"anyway, n=%i\" % int(n))\n"
     ]
    },
    {
     "data": {
      "text/html": [
       "<table class=\"simpletable\">\n",
       "<caption>OLS Regression Results</caption>\n",
       "<tr>\n",
       "  <th>Dep. Variable:</th>            <td>Y</td>        <th>  R-squared:         </th> <td>   0.994</td>\n",
       "</tr>\n",
       "<tr>\n",
       "  <th>Model:</th>                   <td>OLS</td>       <th>  Adj. R-squared:    </th> <td>   0.989</td>\n",
       "</tr>\n",
       "<tr>\n",
       "  <th>Method:</th>             <td>Least Squares</td>  <th>  F-statistic:       </th> <td>   192.2</td>\n",
       "</tr>\n",
       "<tr>\n",
       "  <th>Date:</th>             <td>Tue, 27 Dec 2016</td> <th>  Prob (F-statistic):</th> <td>1.56e-06</td>\n",
       "</tr>\n",
       "<tr>\n",
       "  <th>Time:</th>                 <td>03:21:08</td>     <th>  Log-Likelihood:    </th> <td> -34.454</td>\n",
       "</tr>\n",
       "<tr>\n",
       "  <th>No. Observations:</th>      <td>    12</td>      <th>  AIC:               </th> <td>   80.91</td>\n",
       "</tr>\n",
       "<tr>\n",
       "  <th>Df Residuals:</th>          <td>     6</td>      <th>  BIC:               </th> <td>   83.82</td>\n",
       "</tr>\n",
       "<tr>\n",
       "  <th>Df Model:</th>              <td>     5</td>      <th>                     </th>     <td> </td>   \n",
       "</tr>\n",
       "<tr>\n",
       "  <th>Covariance Type:</th>      <td>nonrobust</td>    <th>                     </th>     <td> </td>   \n",
       "</tr>\n",
       "</table>\n",
       "<table class=\"simpletable\">\n",
       "<tr>\n",
       "       <td></td>         <th>coef</th>     <th>std err</th>      <th>t</th>      <th>P>|t|</th> <th>[95.0% Conf. Int.]</th> \n",
       "</tr>\n",
       "<tr>\n",
       "  <th>Intercept</th>  <td>   24.4096</td> <td>   26.592</td> <td>    0.918</td> <td> 0.394</td> <td>  -40.658    89.477</td>\n",
       "</tr>\n",
       "<tr>\n",
       "  <th>X1</th>         <td>  -38.0328</td> <td>   40.452</td> <td>   -0.940</td> <td> 0.383</td> <td> -137.015    60.950</td>\n",
       "</tr>\n",
       "<tr>\n",
       "  <th>X2</th>         <td>    0.7200</td> <td>   11.687</td> <td>    0.062</td> <td> 0.953</td> <td>  -27.877    29.317</td>\n",
       "</tr>\n",
       "<tr>\n",
       "  <th>I(X1 ** 2)</th> <td>   34.9754</td> <td>   21.556</td> <td>    1.623</td> <td> 0.156</td> <td>  -17.770    87.721</td>\n",
       "</tr>\n",
       "<tr>\n",
       "  <th>I(X2 ** 2)</th> <td>   11.0656</td> <td>    3.158</td> <td>    3.504</td> <td> 0.013</td> <td>    3.338    18.793</td>\n",
       "</tr>\n",
       "<tr>\n",
       "  <th>I(X1 * X2)</th> <td>   -9.9862</td> <td>    8.742</td> <td>   -1.142</td> <td> 0.297</td> <td>  -31.378    11.405</td>\n",
       "</tr>\n",
       "</table>\n",
       "<table class=\"simpletable\">\n",
       "<tr>\n",
       "  <th>Omnibus:</th>       <td> 0.593</td> <th>  Durbin-Watson:     </th> <td>   2.219</td>\n",
       "</tr>\n",
       "<tr>\n",
       "  <th>Prob(Omnibus):</th> <td> 0.743</td> <th>  Jarque-Bera (JB):  </th> <td>   0.385</td>\n",
       "</tr>\n",
       "<tr>\n",
       "  <th>Skew:</th>          <td> 0.385</td> <th>  Prob(JB):          </th> <td>   0.825</td>\n",
       "</tr>\n",
       "<tr>\n",
       "  <th>Kurtosis:</th>      <td> 2.578</td> <th>  Cond. No.          </th> <td>    294.</td>\n",
       "</tr>\n",
       "</table>"
      ],
      "text/plain": [
       "<class 'statsmodels.iolib.summary.Summary'>\n",
       "\"\"\"\n",
       "                            OLS Regression Results                            \n",
       "==============================================================================\n",
       "Dep. Variable:                      Y   R-squared:                       0.994\n",
       "Model:                            OLS   Adj. R-squared:                  0.989\n",
       "Method:                 Least Squares   F-statistic:                     192.2\n",
       "Date:                Tue, 27 Dec 2016   Prob (F-statistic):           1.56e-06\n",
       "Time:                        03:21:08   Log-Likelihood:                -34.454\n",
       "No. Observations:                  12   AIC:                             80.91\n",
       "Df Residuals:                       6   BIC:                             83.82\n",
       "Df Model:                           5                                         \n",
       "Covariance Type:            nonrobust                                         \n",
       "==============================================================================\n",
       "                 coef    std err          t      P>|t|      [95.0% Conf. Int.]\n",
       "------------------------------------------------------------------------------\n",
       "Intercept     24.4096     26.592      0.918      0.394       -40.658    89.477\n",
       "X1           -38.0328     40.452     -0.940      0.383      -137.015    60.950\n",
       "X2             0.7200     11.687      0.062      0.953       -27.877    29.317\n",
       "I(X1 ** 2)    34.9754     21.556      1.623      0.156       -17.770    87.721\n",
       "I(X2 ** 2)    11.0656      3.158      3.504      0.013         3.338    18.793\n",
       "I(X1 * X2)    -9.9862      8.742     -1.142      0.297       -31.378    11.405\n",
       "==============================================================================\n",
       "Omnibus:                        0.593   Durbin-Watson:                   2.219\n",
       "Prob(Omnibus):                  0.743   Jarque-Bera (JB):                0.385\n",
       "Skew:                           0.385   Prob(JB):                        0.825\n",
       "Kurtosis:                       2.578   Cond. No.                         294.\n",
       "==============================================================================\n",
       "\n",
       "Warnings:\n",
       "[1] Standard Errors assume that the covariance matrix of the errors is correctly specified.\n",
       "\"\"\""
      ]
     },
     "execution_count": 4,
     "metadata": {},
     "output_type": "execute_result"
    }
   ],
   "source": [
    "res.summary()"
   ]
  },
  {
   "cell_type": "markdown",
   "metadata": {},
   "source": [
    "Ninguna  variable es altamente significativa a pesar del alto $R^2$\n",
    "\n",
    "El modelo ajustado, presentaria los parametros"
   ]
  },
  {
   "cell_type": "code",
   "execution_count": 5,
   "metadata": {
    "collapsed": false
   },
   "outputs": [
    {
     "data": {
      "text/plain": [
       "Intercept     24.409554\n",
       "X1           -38.032794\n",
       "X2             0.719976\n",
       "I(X1 ** 2)    34.975442\n",
       "I(X2 ** 2)    11.065588\n",
       "I(X1 * X2)    -9.986223\n",
       "dtype: float64"
      ]
     },
     "execution_count": 5,
     "metadata": {},
     "output_type": "execute_result"
    }
   ],
   "source": [
    "res.params"
   ]
  },
  {
   "cell_type": "markdown",
   "metadata": {},
   "source": [
    "##  Problema 11\n",
    "\n",
    "Se piensa que la potencia consumida al mes por una planta química está relacionada con la temperatura ambiente promedio (X1), el número de días al mes , (X2), la pureza producto del producto (X3) y las toneladas del producto producidas (X4) . Los datos correspondientes al año pasado son:\n",
    "\n",
    "![Image](images/4.png)\n",
    "\n",
    "**a. Ajuste un modelo de regresión lineal múltiple a los datos.**"
   ]
  },
  {
   "cell_type": "code",
   "execution_count": 6,
   "metadata": {
    "collapsed": true
   },
   "outputs": [],
   "source": [
    "data = pd.read_csv(\"data/5_11.csv\")"
   ]
  },
  {
   "cell_type": "code",
   "execution_count": 7,
   "metadata": {
    "collapsed": false
   },
   "outputs": [],
   "source": [
    "mod = smf.ols(formula='Y ~ X1 + X2 + X3 + X4', data=data)\n",
    "res = mod.fit()"
   ]
  },
  {
   "cell_type": "code",
   "execution_count": 8,
   "metadata": {
    "collapsed": false
   },
   "outputs": [
    {
     "name": "stderr",
     "output_type": "stream",
     "text": [
      "/Users/rgap/.virtualenvs/stats/lib/python3.5/site-packages/scipy/stats/stats.py:1327: UserWarning: kurtosistest only valid for n>=20 ... continuing anyway, n=12\n",
      "  \"anyway, n=%i\" % int(n))\n"
     ]
    },
    {
     "data": {
      "text/html": [
       "<table class=\"simpletable\">\n",
       "<caption>OLS Regression Results</caption>\n",
       "<tr>\n",
       "  <th>Dep. Variable:</th>            <td>Y</td>        <th>  R-squared:         </th> <td>   0.745</td>\n",
       "</tr>\n",
       "<tr>\n",
       "  <th>Model:</th>                   <td>OLS</td>       <th>  Adj. R-squared:    </th> <td>   0.599</td>\n",
       "</tr>\n",
       "<tr>\n",
       "  <th>Method:</th>             <td>Least Squares</td>  <th>  F-statistic:       </th> <td>   5.106</td>\n",
       "</tr>\n",
       "<tr>\n",
       "  <th>Date:</th>             <td>Tue, 27 Dec 2016</td> <th>  Prob (F-statistic):</th>  <td>0.0303</td> \n",
       "</tr>\n",
       "<tr>\n",
       "  <th>Time:</th>                 <td>03:21:09</td>     <th>  Log-Likelihood:    </th> <td> -46.745</td>\n",
       "</tr>\n",
       "<tr>\n",
       "  <th>No. Observations:</th>      <td>    12</td>      <th>  AIC:               </th> <td>   103.5</td>\n",
       "</tr>\n",
       "<tr>\n",
       "  <th>Df Residuals:</th>          <td>     7</td>      <th>  BIC:               </th> <td>   105.9</td>\n",
       "</tr>\n",
       "<tr>\n",
       "  <th>Df Model:</th>              <td>     4</td>      <th>                     </th>     <td> </td>   \n",
       "</tr>\n",
       "<tr>\n",
       "  <th>Covariance Type:</th>      <td>nonrobust</td>    <th>                     </th>     <td> </td>   \n",
       "</tr>\n",
       "</table>\n",
       "<table class=\"simpletable\">\n",
       "<tr>\n",
       "      <td></td>         <th>coef</th>     <th>std err</th>      <th>t</th>      <th>P>|t|</th> <th>[95.0% Conf. Int.]</th> \n",
       "</tr>\n",
       "<tr>\n",
       "  <th>Intercept</th> <td> -102.7132</td> <td>  207.859</td> <td>   -0.494</td> <td> 0.636</td> <td> -594.221   388.795</td>\n",
       "</tr>\n",
       "<tr>\n",
       "  <th>X1</th>        <td>    0.6054</td> <td>    0.369</td> <td>    1.641</td> <td> 0.145</td> <td>   -0.267     1.478</td>\n",
       "</tr>\n",
       "<tr>\n",
       "  <th>X2</th>        <td>    8.9236</td> <td>    5.301</td> <td>    1.684</td> <td> 0.136</td> <td>   -3.610    21.457</td>\n",
       "</tr>\n",
       "<tr>\n",
       "  <th>X3</th>        <td>    1.4375</td> <td>    2.392</td> <td>    0.601</td> <td> 0.567</td> <td>   -4.218     7.093</td>\n",
       "</tr>\n",
       "<tr>\n",
       "  <th>X4</th>        <td>    0.0136</td> <td>    0.734</td> <td>    0.019</td> <td> 0.986</td> <td>   -1.722     1.749</td>\n",
       "</tr>\n",
       "</table>\n",
       "<table class=\"simpletable\">\n",
       "<tr>\n",
       "  <th>Omnibus:</th>       <td> 0.007</td> <th>  Durbin-Watson:     </th> <td>   1.772</td>\n",
       "</tr>\n",
       "<tr>\n",
       "  <th>Prob(Omnibus):</th> <td> 0.996</td> <th>  Jarque-Bera (JB):  </th> <td>   0.207</td>\n",
       "</tr>\n",
       "<tr>\n",
       "  <th>Skew:</th>          <td>-0.039</td> <th>  Prob(JB):          </th> <td>   0.902</td>\n",
       "</tr>\n",
       "<tr>\n",
       "  <th>Kurtosis:</th>      <td> 2.362</td> <th>  Cond. No.          </th> <td>6.82e+03</td>\n",
       "</tr>\n",
       "</table>"
      ],
      "text/plain": [
       "<class 'statsmodels.iolib.summary.Summary'>\n",
       "\"\"\"\n",
       "                            OLS Regression Results                            \n",
       "==============================================================================\n",
       "Dep. Variable:                      Y   R-squared:                       0.745\n",
       "Model:                            OLS   Adj. R-squared:                  0.599\n",
       "Method:                 Least Squares   F-statistic:                     5.106\n",
       "Date:                Tue, 27 Dec 2016   Prob (F-statistic):             0.0303\n",
       "Time:                        03:21:09   Log-Likelihood:                -46.745\n",
       "No. Observations:                  12   AIC:                             103.5\n",
       "Df Residuals:                       7   BIC:                             105.9\n",
       "Df Model:                           4                                         \n",
       "Covariance Type:            nonrobust                                         \n",
       "==============================================================================\n",
       "                 coef    std err          t      P>|t|      [95.0% Conf. Int.]\n",
       "------------------------------------------------------------------------------\n",
       "Intercept   -102.7132    207.859     -0.494      0.636      -594.221   388.795\n",
       "X1             0.6054      0.369      1.641      0.145        -0.267     1.478\n",
       "X2             8.9236      5.301      1.684      0.136        -3.610    21.457\n",
       "X3             1.4375      2.392      0.601      0.567        -4.218     7.093\n",
       "X4             0.0136      0.734      0.019      0.986        -1.722     1.749\n",
       "==============================================================================\n",
       "Omnibus:                        0.007   Durbin-Watson:                   1.772\n",
       "Prob(Omnibus):                  0.996   Jarque-Bera (JB):                0.207\n",
       "Skew:                          -0.039   Prob(JB):                        0.902\n",
       "Kurtosis:                       2.362   Cond. No.                     6.82e+03\n",
       "==============================================================================\n",
       "\n",
       "Warnings:\n",
       "[1] Standard Errors assume that the covariance matrix of the errors is correctly specified.\n",
       "[2] The condition number is large, 6.82e+03. This might indicate that there are\n",
       "strong multicollinearity or other numerical problems.\n",
       "\"\"\""
      ]
     },
     "execution_count": 8,
     "metadata": {},
     "output_type": "execute_result"
    }
   ],
   "source": [
    "res.summary()"
   ]
  },
  {
   "cell_type": "markdown",
   "metadata": {},
   "source": [
    "Modelo:\n",
    "\n",
    "$$\n",
    "Y = -102.7132 + 0.6054 \\cdot X_1 + 8.9236 \\cdot X_2 + 1.4375 \\cdot X_3 + 0.0136 \\cdot X_4\n",
    "$$"
   ]
  },
  {
   "cell_type": "markdown",
   "metadata": {},
   "source": [
    "**b. Prediga el consumo de potencia para un mes en el que X1 = 75 oF, X2 = 24 días, X3 = 90% y X4 = 98 toneladas.**"
   ]
  },
  {
   "cell_type": "code",
   "execution_count": 9,
   "metadata": {
    "collapsed": false
   },
   "outputs": [
    {
     "data": {
      "text/plain": [
       "array([ 287.5618328])"
      ]
     },
     "execution_count": 9,
     "metadata": {},
     "output_type": "execute_result"
    }
   ],
   "source": [
    "consumo = {\"X1\": 75, \"X2\": 24, \"X3\": 90, \"X4\": 98}\n",
    "res.predict(consumo)"
   ]
  },
  {
   "cell_type": "markdown",
   "metadata": {},
   "source": [
    "**c. Pruebe la significancia de la regresión utilizando α = 0.01. ¿Cuál es el valor P de esta prueba?**"
   ]
  },
  {
   "cell_type": "markdown",
   "metadata": {},
   "source": [
    "Se realiza una prueba F\n",
    "\n",
    "$H_0: \\beta_1 = \\beta_2 = \\ldots = \\beta_k = 0$\n",
    "(Es decir, las variables no afectan a Y)\n",
    "\n",
    "$H_1: \\beta_i \\neq 0$\n",
    "(Al menos una variable afecta a Y)\n",
    "\n",
    "Se rechaza $H_0$ si $F_{calc} = 5.106$ (del software), se encuentra en la region de rechazo."
   ]
  },
  {
   "cell_type": "code",
   "execution_count": 10,
   "metadata": {
    "collapsed": false,
    "scrolled": true
   },
   "outputs": [
    {
     "data": {
      "text/plain": [
       "[0.066774584614378074, 7.8466450625465969]"
      ]
     },
     "execution_count": 10,
     "metadata": {},
     "output_type": "execute_result"
    }
   ],
   "source": [
    "from scipy.stats import f\n",
    "n = data.shape[0]\n",
    "params = 5\n",
    "alpha = 0.01\n",
    "[f.ppf(alpha, params - 1, n - params), f.ppf(1 - alpha, params - 1, n - params)]"
   ]
  },
  {
   "cell_type": "markdown",
   "metadata": {},
   "source": [
    "Se encuentra fuera de la region de rechazo.\n",
    "\n",
    "Por lo tanto, Las variables no afectan a Y. Con significancia del 99%."
   ]
  },
  {
   "cell_type": "markdown",
   "metadata": {},
   "source": [
    "**d. Utilice la prueba t para evaluar la contribución al modelo de cada variable de regresión. Si se emplea α = 0.01, ¿qué conclusiones se puede obtener?.**"
   ]
  },
  {
   "cell_type": "markdown",
   "metadata": {},
   "source": [
    "El software calcula los valores p."
   ]
  },
  {
   "cell_type": "code",
   "execution_count": 11,
   "metadata": {
    "collapsed": false
   },
   "outputs": [
    {
     "data": {
      "text/plain": [
       "Intercept    0.636329\n",
       "X1           0.144797\n",
       "X2           0.136146\n",
       "X3           0.566759\n",
       "X4           0.985721\n",
       "dtype: float64"
      ]
     },
     "execution_count": 11,
     "metadata": {},
     "output_type": "execute_result"
    }
   ],
   "source": [
    "res.pvalues"
   ]
  },
  {
   "cell_type": "markdown",
   "metadata": {},
   "source": [
    "$$\n",
    "\\begin{aligned}\n",
    "0.144797 > \\alpha = 0.01 \\\\\n",
    "0.136146 > \\alpha = 0.01 \\\\\n",
    "0.566759 > \\alpha = 0.01 \\\\\n",
    "0.985721 > \\alpha = 0.01\n",
    "\\end{aligned}\n",
    "$$\n",
    "\n",
    "Todos son mayores que la significancia, por tanto, ninguna de las variables influye sobre Y."
   ]
  },
  {
   "cell_type": "markdown",
   "metadata": {},
   "source": [
    "**e. Calcule R2 . Interprete esta cantidad.**"
   ]
  },
  {
   "cell_type": "markdown",
   "metadata": {},
   "source": [
    "$R^2 = 0.745$\n",
    "\n",
    "Se aproxima bastante a 1.\n",
    "\n",
    "Es dificil decir que es un buen valor de $R^2$. Depende mucho del dominio.\n",
    "\n",
    "Serviria de algo solo para compararlo con otros modelos."
   ]
  },
  {
   "cell_type": "markdown",
   "metadata": {},
   "source": [
    "**f. Haga una gráfica de residuos contra valores calculados. Interprete la gráfica.**"
   ]
  },
  {
   "cell_type": "code",
   "execution_count": 12,
   "metadata": {
    "collapsed": false,
    "scrolled": true
   },
   "outputs": [
    {
     "data": {
      "text/plain": [
       "0    -18.757981\n",
       "1      1.886231\n",
       "2     23.310885\n",
       "3     -8.956456\n",
       "4      9.185209\n",
       "5      6.643554\n",
       "6      4.813650\n",
       "7     -0.156766\n",
       "8    -17.850231\n",
       "9    -12.937641\n",
       "10     6.621568\n",
       "11     6.197978\n",
       "dtype: float64"
      ]
     },
     "execution_count": 12,
     "metadata": {},
     "output_type": "execute_result"
    }
   ],
   "source": [
    "import statsmodels.api as sm\n",
    "residual_col = res.resid\n",
    "residual_col"
   ]
  },
  {
   "cell_type": "code",
   "execution_count": 13,
   "metadata": {
    "collapsed": false,
    "scrolled": true
   },
   "outputs": [
    {
     "data": {
      "image/png": "[encoded data removed]",
      "text/plain": [
       "<matplotlib.figure.Figure at 0x1161c5d30>"
      ]
     },
     "metadata": {},
     "output_type": "display_data"
    }
   ],
   "source": [
    "def residuals(df, columns, resids, r, c):\n",
    "    fig = plt.figure()\n",
    "    for i, col in zip(range(1, r*c + 1), columns):\n",
    "        ax = fig.add_subplot(r, c, i)\n",
    "        ax.plot(df[col], resids, 'o', color=\"b\")\n",
    "        ax.set_xlim([df[col].min() - 5, df[col].max() + 5])\n",
    "        ax.set_ylim([resids.min() - 5, resids.max() + 5])\n",
    "        ax.axhline(y=0, color=\"black\")\n",
    "        ax.set_xlabel(df[col].name)\n",
    "        ax.set_ylabel('Residuals')\n",
    "    plt.tight_layout()\n",
    "\n",
    "residuals(data, ['Y'], residual_col, 1, 1)"
   ]
  },
  {
   "cell_type": "markdown",
   "metadata": {},
   "source": [
    "La variable dependiente no parece presentar un patron. Con lo cual el modelo seria aceptable, pero por lo presentado antes, el modelo se rechaza de todos modos."
   ]
  }
 ],
 "metadata": {
  "kernelspec": {
   "display_name": "Python 3",
   "language": "python",
   "name": "python3"
  },
  "language_info": {
   "codemirror_mode": {
    "name": "ipython",
    "version": 3
   },
   "file_extension": ".py",
   "mimetype": "text/x-python",
   "name": "python",
   "nbconvert_exporter": "python",
   "pygments_lexer": "ipython3",
   "version": "3.5.2"
  }
 },
 "nbformat": 4,
 "nbformat_minor": 2
}
