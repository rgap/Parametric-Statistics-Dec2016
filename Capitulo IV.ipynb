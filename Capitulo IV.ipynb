{
 "cells": [
  {
   "cell_type": "code",
   "execution_count": 1,
   "metadata": {
    "collapsed": true
   },
   "outputs": [],
   "source": [
    "import pandas as pd\n",
    "import matplotlib.pyplot as plt\n",
    "import seaborn as sns\n",
    "import numpy as np\n",
    "from scipy.stats import norm\n",
    "import math\n",
    "%matplotlib inline\n",
    "sns.set(style='whitegrid', rc={\"grid.linewidth\": 0.1})\n",
    "sns.set_context(\"paper\")\n",
    "\n",
    "plt.rc('figure', figsize=(6,3))\n",
    "plt.rc('figure.subplot', wspace=.33)"
   ]
  },
  {
   "cell_type": "markdown",
   "metadata": {},
   "source": [
    "##  Problema 2\n",
    "\n",
    "Se desea contrastar la hipótesis μ = 0 frente a la alternativa μ >0 sobre la base de una muestra aleatoria de tamaño 100 obtenida de una población normal con σ^2=1.\n",
    "\n",
    "Si la hipótesis se debe rechazar cuando $\\bar{x}$ > 0.233, cuál es el nivel de significación empleado?\n",
    "\n",
    "Rpta.: α = 0.01"
   ]
  },
  {
   "cell_type": "markdown",
   "metadata": {},
   "source": [
    "$H_0: \\mu = 0$\n",
    "\n",
    "$H_1: \\mu > 0$"
   ]
  },
  {
   "cell_type": "code",
   "execution_count": 2,
   "metadata": {
    "collapsed": true
   },
   "outputs": [],
   "source": [
    "n = 100\n",
    "sigma = 1"
   ]
  },
  {
   "cell_type": "markdown",
   "metadata": {},
   "source": [
    "![Image](images/0.png)"
   ]
  },
  {
   "cell_type": "code",
   "execution_count": 3,
   "metadata": {
    "collapsed": false,
    "scrolled": true
   },
   "outputs": [
    {
     "data": {
      "text/plain": [
       "0.40788070288413092"
      ]
     },
     "execution_count": 3,
     "metadata": {},
     "output_type": "execute_result"
    }
   ],
   "source": [
    "1 - norm.cdf(0.233)"
   ]
  },
  {
   "cell_type": "markdown",
   "metadata": {},
   "source": [
    "##  Problema 7\n",
    "\n",
    "Se estudia el rendimiento de un proceso químico. De la experiencia previa con este proceso se sabe que la desviación estándar del rendimiento es 3. En los cinco días anteriores de operación de la planta, se han observado los siguientes rendimientos:\n",
    "\n",
    "91.6%, 88.75%, 90.8%, 89.95%, 91.3%\n",
    "\n",
    "a) ¿Existe evidencia de que el rendimiento no es del 90% con α = 0.05?.\n",
    "\n",
    "b) Cuál es el valor p de esta prueba?\n",
    "\n",
    "Rpta.; (a) No; (b) 0.3594"
   ]
  },
  {
   "cell_type": "code",
   "execution_count": 4,
   "metadata": {
    "collapsed": false,
    "scrolled": true
   },
   "outputs": [
    {
     "data": {
      "text/plain": [
       "90.47999999999999"
      ]
     },
     "execution_count": 4,
     "metadata": {},
     "output_type": "execute_result"
    }
   ],
   "source": [
    "alpha = 0.05\n",
    "sigma = 3\n",
    "data = pd.Series([91.6, 88.75, 90.8, 89.95, 91.3])\n",
    "mu = data.mean()\n",
    "mu"
   ]
  },
  {
   "cell_type": "code",
   "execution_count": 5,
   "metadata": {
    "collapsed": false
   },
   "outputs": [
    {
     "data": {
      "text/plain": [
       "-1.6448536269514729"
      ]
     },
     "execution_count": 5,
     "metadata": {},
     "output_type": "execute_result"
    }
   ],
   "source": [
    "norm.ppf(0.05)"
   ]
  },
  {
   "cell_type": "markdown",
   "metadata": {},
   "source": [
    "![Image](images/1.png)"
   ]
  },
  {
   "cell_type": "code",
   "execution_count": 6,
   "metadata": {
    "collapsed": false,
    "scrolled": false
   },
   "outputs": [
    {
     "data": {
      "text/plain": [
       "0.35777087639995869"
      ]
     },
     "execution_count": 6,
     "metadata": {},
     "output_type": "execute_result"
    }
   ],
   "source": [
    "z_calc = (mu - 90) / (3 / math.sqrt(5))\n",
    "z_calc"
   ]
  },
  {
   "cell_type": "code",
   "execution_count": 7,
   "metadata": {
    "collapsed": false,
    "scrolled": false
   },
   "outputs": [
    {
     "data": {
      "text/plain": [
       "0.63974260643186953"
      ]
     },
     "execution_count": 7,
     "metadata": {},
     "output_type": "execute_result"
    }
   ],
   "source": [
    "p = norm.cdf(z_calc)\n",
    "p"
   ]
  },
  {
   "cell_type": "markdown",
   "metadata": {},
   "source": [
    "Se acepta la hipotesis nula, la media sigue siendo la misma. Y el valor de p es 0.634."
   ]
  },
  {
   "cell_type": "markdown",
   "metadata": {},
   "source": [
    "##  Problema 9\n",
    "\n",
    "Se tomaron aleatoriamente 64 fusibles y fueron sometidos a un 20% de sobrecarga y el tiempo de falla fue registrado. Para esta muestra se encontró $\\bar{x} = 8.5$ minutos y s = 2.4. A un nivel de significación del 0.05 probar si μ > 8.0.\n",
    "\n",
    "Rpta.: Si, μ> 8.0"
   ]
  },
  {
   "cell_type": "code",
   "execution_count": 8,
   "metadata": {
    "collapsed": true
   },
   "outputs": [],
   "source": [
    "n = 64\n",
    "mu = 8.5"
   ]
  },
  {
   "cell_type": "markdown",
   "metadata": {},
   "source": [
    "$H_0: \\mu = 8.0$\n",
    "\n",
    "$H_1: \\mu > 8.0$\n",
    "\n",
    "Cola a la derecha"
   ]
  },
  {
   "cell_type": "code",
   "execution_count": 9,
   "metadata": {
    "collapsed": false
   },
   "outputs": [
    {
     "data": {
      "text/plain": [
       "1.6448536269514729"
      ]
     },
     "execution_count": 9,
     "metadata": {},
     "output_type": "execute_result"
    }
   ],
   "source": [
    "mu = 8.5\n",
    "sigma = 2.4\n",
    "alpha = 0.05\n",
    "\n",
    "z_tabla = - norm.ppf(0.05)\n",
    "z_tabla"
   ]
  },
  {
   "cell_type": "code",
   "execution_count": 10,
   "metadata": {
    "collapsed": false
   },
   "outputs": [
    {
     "data": {
      "text/plain": [
       "1.6666666666666667"
      ]
     },
     "execution_count": 10,
     "metadata": {},
     "output_type": "execute_result"
    }
   ],
   "source": [
    "z_calc = (mu - 8.0) / (sigma / math.sqrt(n))\n",
    "z_calc"
   ]
  },
  {
   "cell_type": "markdown",
   "metadata": {},
   "source": [
    "$$\n",
    "z_{calc} > z_{tabla}\n",
    "$$\n",
    "\n",
    "Entonces se rechaza la hipotesis nula.\n",
    "\n",
    "La media $\\mu > 8.0$"
   ]
  },
  {
   "cell_type": "markdown",
   "metadata": {},
   "source": [
    "##  Problema 10\n",
    "\n",
    "En el pasado una máquina ha producido arandelas con un grosor de 0.05 pulgadas y una desviación estándar, σ, de 0.003 pulgadas. Para determinar si la máquina sigue en buenas condiciones de producción, se toma una muestra de 10 arandelas que resultan tener un grosor medio de 0.053 pulgadas. Ensayar la hipótesis de que la máquina este en buenas condiciones de producción a un nivel de significación del 0.05.\n",
    "\n",
    "Rpta.: , μ ≠ 0.05"
   ]
  },
  {
   "cell_type": "code",
   "execution_count": 11,
   "metadata": {
    "collapsed": false
   },
   "outputs": [],
   "source": [
    "mu_0 = 0.05\n",
    "sigma_0 = 0.003"
   ]
  },
  {
   "cell_type": "markdown",
   "metadata": {},
   "source": [
    "Muestra"
   ]
  },
  {
   "cell_type": "code",
   "execution_count": 12,
   "metadata": {
    "collapsed": true
   },
   "outputs": [],
   "source": [
    "n = 10\n",
    "mu = 0.053\n",
    "alpha = 0.05"
   ]
  },
  {
   "cell_type": "markdown",
   "metadata": {},
   "source": [
    "$H_0: \\mu = 0.05$\n",
    "\n",
    "$H_1: \\mu \\neq 0.05$\n",
    "\n",
    "Doble cola"
   ]
  },
  {
   "cell_type": "code",
   "execution_count": 13,
   "metadata": {
    "collapsed": false
   },
   "outputs": [
    {
     "data": {
      "text/plain": [
       "[-1.9599639845400545, 1.9599639845400545]"
      ]
     },
     "execution_count": 13,
     "metadata": {},
     "output_type": "execute_result"
    }
   ],
   "source": [
    "z_tabla = norm.ppf(alpha/2)\n",
    "[z_tabla, -z_tabla]"
   ]
  },
  {
   "cell_type": "code",
   "execution_count": 14,
   "metadata": {
    "collapsed": false
   },
   "outputs": [
    {
     "data": {
      "text/plain": [
       "3.162277660168375"
      ]
     },
     "execution_count": 14,
     "metadata": {},
     "output_type": "execute_result"
    }
   ],
   "source": [
    "z_calc = (0.053 - 0.05) / (0.003/math.sqrt(10))\n",
    "z_calc"
   ]
  },
  {
   "cell_type": "markdown",
   "metadata": {},
   "source": [
    "![Image](images/2.png)"
   ]
  },
  {
   "cell_type": "markdown",
   "metadata": {},
   "source": [
    "La maquina no esta en buenas condiciones."
   ]
  },
  {
   "cell_type": "markdown",
   "metadata": {},
   "source": [
    "##  Problema 15\n",
    "\n",
    "Un laboratorio de pruebas desea contrastar si el promedio de vida de cierta herramienta de corte es de 2,000 piezas, frente a la alternativa de que es menos de 2,000. Qué conclusión se deberá obtener a un nivel de significación del 0.01, si 6 pruebas mostraron como vidas de las herramientas 2010, 1980, 1920, 2005, 1975, y 1950 piezas?\n",
    "\n",
    "Rpta. : μ = 2000"
   ]
  },
  {
   "cell_type": "markdown",
   "metadata": {},
   "source": [
    "$H_0: \\mu = 2000$\n",
    "\n",
    "$H_1: \\mu < 2000$\n",
    "\n",
    "Cola a la izquierda"
   ]
  },
  {
   "cell_type": "code",
   "execution_count": 15,
   "metadata": {
    "collapsed": true
   },
   "outputs": [],
   "source": [
    "alpha = 0.01\n",
    "data = pd.Series([2010, 1980, 1920, 2005, 1975, 1950])\n",
    "n = data.shape[0]\n",
    "mu = data.mean()\n",
    "sigma = data.std()"
   ]
  },
  {
   "cell_type": "code",
   "execution_count": 16,
   "metadata": {
    "collapsed": false
   },
   "outputs": [
    {
     "data": {
      "text/plain": [
       "-2.3263478740408408"
      ]
     },
     "execution_count": 16,
     "metadata": {},
     "output_type": "execute_result"
    }
   ],
   "source": [
    "z_tabla = norm.ppf(alpha)\n",
    "z_tabla"
   ]
  },
  {
   "cell_type": "code",
   "execution_count": 17,
   "metadata": {
    "collapsed": false
   },
   "outputs": [
    {
     "data": {
      "text/plain": [
       "-1.9206146950693799"
      ]
     },
     "execution_count": 17,
     "metadata": {},
     "output_type": "execute_result"
    }
   ],
   "source": [
    "z_calc = (mu - 2000)/(sigma/math.sqrt(n))\n",
    "z_calc"
   ]
  },
  {
   "cell_type": "markdown",
   "metadata": {},
   "source": [
    "$$\n",
    "z_{calc} > z_{tabla}\n",
    "$$\n",
    "\n",
    "Entonces se acepta la hipotesis nula.\n",
    "\n",
    "La media $\\mu = 2000$"
   ]
  },
  {
   "cell_type": "markdown",
   "metadata": {},
   "source": [
    "##  Problema 17\n",
    "\n",
    "Una compañía desea comparar las vidas de dos piedras abrasivas y encuentra que el promedio de vida de 10 piedras de la primera clase es de 58 piezas con una desviación estándar de 6 piezas; y que la vida promedio de 12 piedras de la segunda clase es de 66 piezas con una desviación estándar de 4 piezas. Contrastar la hipótesis de que no hay diferencia significativa entre los promedios de vida de las dos piedras con un nivel de significación de 0.01.\n",
    "\n",
    "Rpta.: Si hay diferencia."
   ]
  },
  {
   "cell_type": "code",
   "execution_count": 18,
   "metadata": {
    "collapsed": true
   },
   "outputs": [],
   "source": [
    "n_1 = 10\n",
    "mu_1 = 58\n",
    "sigma_1 = 6\n",
    "\n",
    "n_2 = 12\n",
    "mu_2 = 66\n",
    "sigma_2 = 4"
   ]
  },
  {
   "cell_type": "code",
   "execution_count": 19,
   "metadata": {
    "collapsed": true
   },
   "outputs": [],
   "source": [
    "alpha = 0.01"
   ]
  },
  {
   "cell_type": "markdown",
   "metadata": {},
   "source": [
    "$H_0: \\mu_1 = \\mu_2$\n",
    "\n",
    "$H_1: \\mu_1 \\neq \\mu_2$\n",
    "\n",
    "Doble cola"
   ]
  },
  {
   "cell_type": "code",
   "execution_count": 20,
   "metadata": {
    "collapsed": false,
    "scrolled": true
   },
   "outputs": [
    {
     "data": {
      "text/plain": [
       "[-2.5758293035489008, 2.5758293035489008]"
      ]
     },
     "execution_count": 20,
     "metadata": {},
     "output_type": "execute_result"
    }
   ],
   "source": [
    "z_tabla = norm.ppf(alpha/2)\n",
    "[z_tabla, -z_tabla]"
   ]
  },
  {
   "cell_type": "code",
   "execution_count": 21,
   "metadata": {
    "collapsed": false
   },
   "outputs": [
    {
     "data": {
      "text/plain": [
       "-3.6018013511259857"
      ]
     },
     "execution_count": 21,
     "metadata": {},
     "output_type": "execute_result"
    }
   ],
   "source": [
    "z_calc = (mu_1 - mu_2)/(math.sqrt(sigma_1*sigma_1/n_1 + sigma_2*sigma_2/n_2))\n",
    "z_calc"
   ]
  },
  {
   "cell_type": "markdown",
   "metadata": {},
   "source": [
    "Se rechaza la hipotesis nula.\n",
    "\n",
    "Si hay diferencia significativa entre los promedios de vida."
   ]
  },
  {
   "cell_type": "markdown",
   "metadata": {},
   "source": [
    "##  Problema 19\n",
    "\n",
    "Dos diferentes tipos de telas son comparados. Las perdidas de tela en miligramos en 7 pruebas son como sigue:\n",
    "\n",
    "P r u e b a, \n",
    "Tela ...\n",
    "\n",
    "Analizar los datos y definir si alguna de las telas es mejor que la otra.\n",
    "\n",
    "Rpta. No son diferentes."
   ]
  },
  {
   "cell_type": "code",
   "execution_count": 22,
   "metadata": {
    "collapsed": true
   },
   "outputs": [],
   "source": [
    "data = pd.read_csv(\"data/4_19.csv\")"
   ]
  },
  {
   "cell_type": "code",
   "execution_count": 23,
   "metadata": {
    "collapsed": true
   },
   "outputs": [],
   "source": [
    "n_1 = data.shape[0]\n",
    "mu_1 = data.A.mean()\n",
    "sigma_1 = data.A.std()\n",
    "\n",
    "n_2 = data.shape[0]\n",
    "mu_2 = data.B.mean()\n",
    "sigma_2 = data.B.std()"
   ]
  },
  {
   "cell_type": "code",
   "execution_count": 24,
   "metadata": {
    "collapsed": false
   },
   "outputs": [
    {
     "data": {
      "text/html": [
       "<div>\n",
       "<table border=\"1\" class=\"dataframe\">\n",
       "  <thead>\n",
       "    <tr style=\"text-align: right;\">\n",
       "      <th></th>\n",
       "      <th>A</th>\n",
       "      <th>B</th>\n",
       "    </tr>\n",
       "  </thead>\n",
       "  <tbody>\n",
       "    <tr>\n",
       "      <th>count</th>\n",
       "      <td>7.000000</td>\n",
       "      <td>7.000000</td>\n",
       "    </tr>\n",
       "    <tr>\n",
       "      <th>mean</th>\n",
       "      <td>31.142857</td>\n",
       "      <td>33.428571</td>\n",
       "    </tr>\n",
       "    <tr>\n",
       "      <th>std</th>\n",
       "      <td>6.121780</td>\n",
       "      <td>7.524563</td>\n",
       "    </tr>\n",
       "    <tr>\n",
       "      <th>min</th>\n",
       "      <td>22.000000</td>\n",
       "      <td>21.000000</td>\n",
       "    </tr>\n",
       "    <tr>\n",
       "      <th>25%</th>\n",
       "      <td>27.000000</td>\n",
       "      <td>29.000000</td>\n",
       "    </tr>\n",
       "    <tr>\n",
       "      <th>50%</th>\n",
       "      <td>31.000000</td>\n",
       "      <td>35.000000</td>\n",
       "    </tr>\n",
       "    <tr>\n",
       "      <th>75%</th>\n",
       "      <td>36.500000</td>\n",
       "      <td>39.000000</td>\n",
       "    </tr>\n",
       "    <tr>\n",
       "      <th>max</th>\n",
       "      <td>38.000000</td>\n",
       "      <td>42.000000</td>\n",
       "    </tr>\n",
       "  </tbody>\n",
       "</table>\n",
       "</div>"
      ],
      "text/plain": [
       "               A          B\n",
       "count   7.000000   7.000000\n",
       "mean   31.142857  33.428571\n",
       "std     6.121780   7.524563\n",
       "min    22.000000  21.000000\n",
       "25%    27.000000  29.000000\n",
       "50%    31.000000  35.000000\n",
       "75%    36.500000  39.000000\n",
       "max    38.000000  42.000000"
      ]
     },
     "execution_count": 24,
     "metadata": {},
     "output_type": "execute_result"
    }
   ],
   "source": [
    "data.describe()"
   ]
  },
  {
   "cell_type": "markdown",
   "metadata": {},
   "source": [
    "Comparo los dos tipos de telas con un nivel de significancia de $\\alpha = 0.01$"
   ]
  },
  {
   "cell_type": "code",
   "execution_count": 25,
   "metadata": {
    "collapsed": true
   },
   "outputs": [],
   "source": [
    "alpha = 0.01"
   ]
  },
  {
   "cell_type": "markdown",
   "metadata": {},
   "source": [
    "$H_0: \\mu_1 = \\mu_2$\n",
    "\n",
    "$H_1: \\mu_1 \\neq \\mu_2$\n",
    "\n",
    "Doble cola"
   ]
  },
  {
   "cell_type": "code",
   "execution_count": 26,
   "metadata": {
    "collapsed": false,
    "scrolled": true
   },
   "outputs": [
    {
     "data": {
      "text/plain": [
       "[-2.5758293035489008, 2.5758293035489008]"
      ]
     },
     "execution_count": 26,
     "metadata": {},
     "output_type": "execute_result"
    }
   ],
   "source": [
    "z_tabla = norm.ppf(alpha/2)\n",
    "[z_tabla, -z_tabla]"
   ]
  },
  {
   "cell_type": "code",
   "execution_count": 27,
   "metadata": {
    "collapsed": false
   },
   "outputs": [
    {
     "data": {
      "text/plain": [
       "-0.62342920015935799"
      ]
     },
     "execution_count": 27,
     "metadata": {},
     "output_type": "execute_result"
    }
   ],
   "source": [
    "z_calc = (mu_1 - mu_2)/(math.sqrt(sigma_1*sigma_1/n_1 + sigma_2*sigma_2/n_2))\n",
    "z_calc"
   ]
  },
  {
   "cell_type": "markdown",
   "metadata": {},
   "source": [
    "Se acepta la hipotesis nula. Y con una alta significancia de 99%, las dos telas son iguales."
   ]
  },
  {
   "cell_type": "markdown",
   "metadata": {},
   "source": [
    "##  Problema 20\n",
    "\n",
    "Un producto dietético líquido afirma en su publicidad que el empleo del mismo durante un mes produce una pérdida promedio de 3 libras de peso. Ocho sujetos utilizan el producto por un mes, y los datos sobre pérdida de peso son los siguientes:\n",
    "\n",
    "Sujeto...\n",
    "\n",
    "¿Los datos apoyan la afirmación hecha por la publicidad?"
   ]
  },
  {
   "cell_type": "code",
   "execution_count": 28,
   "metadata": {
    "collapsed": true
   },
   "outputs": [],
   "source": [
    "data = pd.read_csv(\"data/4_20.csv\")"
   ]
  },
  {
   "cell_type": "code",
   "execution_count": 29,
   "metadata": {
    "collapsed": false,
    "scrolled": true
   },
   "outputs": [
    {
     "data": {
      "text/html": [
       "<div>\n",
       "<table border=\"1\" class=\"dataframe\">\n",
       "  <thead>\n",
       "    <tr style=\"text-align: right;\">\n",
       "      <th></th>\n",
       "      <th>Inicial</th>\n",
       "      <th>Final</th>\n",
       "    </tr>\n",
       "  </thead>\n",
       "  <tbody>\n",
       "    <tr>\n",
       "      <th>count</th>\n",
       "      <td>8.000000</td>\n",
       "      <td>8.000000</td>\n",
       "    </tr>\n",
       "    <tr>\n",
       "      <th>mean</th>\n",
       "      <td>174.000000</td>\n",
       "      <td>170.625000</td>\n",
       "    </tr>\n",
       "    <tr>\n",
       "      <th>std</th>\n",
       "      <td>23.706539</td>\n",
       "      <td>23.609547</td>\n",
       "    </tr>\n",
       "    <tr>\n",
       "      <th>min</th>\n",
       "      <td>143.000000</td>\n",
       "      <td>141.000000</td>\n",
       "    </tr>\n",
       "    <tr>\n",
       "      <th>25%</th>\n",
       "      <td>153.750000</td>\n",
       "      <td>149.000000</td>\n",
       "    </tr>\n",
       "    <tr>\n",
       "      <th>50%</th>\n",
       "      <td>175.000000</td>\n",
       "      <td>172.000000</td>\n",
       "    </tr>\n",
       "    <tr>\n",
       "      <th>75%</th>\n",
       "      <td>195.750000</td>\n",
       "      <td>192.750000</td>\n",
       "    </tr>\n",
       "    <tr>\n",
       "      <th>max</th>\n",
       "      <td>201.000000</td>\n",
       "      <td>197.000000</td>\n",
       "    </tr>\n",
       "  </tbody>\n",
       "</table>\n",
       "</div>"
      ],
      "text/plain": [
       "          Inicial       Final\n",
       "count    8.000000    8.000000\n",
       "mean   174.000000  170.625000\n",
       "std     23.706539   23.609547\n",
       "min    143.000000  141.000000\n",
       "25%    153.750000  149.000000\n",
       "50%    175.000000  172.000000\n",
       "75%    195.750000  192.750000\n",
       "max    201.000000  197.000000"
      ]
     },
     "execution_count": 29,
     "metadata": {},
     "output_type": "execute_result"
    }
   ],
   "source": [
    "data.describe()"
   ]
  },
  {
   "cell_type": "markdown",
   "metadata": {},
   "source": [
    "Simplemente comparando las medias, si produce una perdida de peso de 3 o 4.\n",
    "\n",
    "Para estar seguros, se hace la prueba t, porque la muestra no es grande."
   ]
  },
  {
   "cell_type": "code",
   "execution_count": 30,
   "metadata": {
    "collapsed": true
   },
   "outputs": [],
   "source": [
    "n_1 = data.shape[0]\n",
    "mu_1 = data.Inicial.mean()\n",
    "var_1 = data.Inicial.var()\n",
    "\n",
    "n_2 = data.shape[0]\n",
    "mu_2 = data.Final.mean()\n",
    "var_2 = data.Final.var()"
   ]
  },
  {
   "cell_type": "markdown",
   "metadata": {},
   "source": [
    "Comparo los dos datos con un nivel de significancia de $\\alpha = 0.05$"
   ]
  },
  {
   "cell_type": "code",
   "execution_count": 31,
   "metadata": {
    "collapsed": true
   },
   "outputs": [],
   "source": [
    "alpha = 0.05"
   ]
  },
  {
   "cell_type": "markdown",
   "metadata": {},
   "source": [
    "$H_0: \\mu_1 = \\mu_2$\n",
    "\n",
    "$H_1: \\mu_1 > \\mu_2$\n",
    "\n",
    "Cola a la derecha"
   ]
  },
  {
   "cell_type": "code",
   "execution_count": 32,
   "metadata": {
    "collapsed": false
   },
   "outputs": [
    {
     "data": {
      "text/plain": [
       "1.7613101357748564"
      ]
     },
     "execution_count": 32,
     "metadata": {},
     "output_type": "execute_result"
    }
   ],
   "source": [
    "from scipy.stats import t\n",
    "t_tabla = - t.ppf(alpha, n_1 + n_2 - 2)\n",
    "t_tabla"
   ]
  },
  {
   "cell_type": "code",
   "execution_count": 33,
   "metadata": {
    "collapsed": false
   },
   "outputs": [
    {
     "data": {
      "text/plain": [
       "0.28531462970155974"
      ]
     },
     "execution_count": 33,
     "metadata": {},
     "output_type": "execute_result"
    }
   ],
   "source": [
    "den = math.sqrt(((n_1-1)*var_1 + (n_2-1)*var_2)/(n_1+n_2-2) * (1/n_1 + 1/n_2))\n",
    "t_calc = (mu_1 - mu_2)/den\n",
    "t_calc"
   ]
  },
  {
   "cell_type": "markdown",
   "metadata": {},
   "source": [
    "Los datos NO apoyan la afirmacion hecha por la publicidad. A menos que tenga una significancia de 0.4 por ejemplo."
   ]
  },
  {
   "cell_type": "markdown",
   "metadata": {},
   "source": [
    "##  Problema 22\n",
    "\n",
    "Un fabricante de detergente líquido esta interesado en la uniformidad de la máquina utilizada para llenar botellas. De manera específica, es deseable que la desviación estándar del proceso de llenado sea menor que 0.5 onzas de líquido; de otro modo, existe un porcentaje mayor del deseable de botellas con un contenido menor de detergente. La distribución del volumen de llenado es normal. Al tomar una muestra aleatoria de 20 botellas, se obtiene una varianza muestral de 0.0153 (onzas de fluido )2.\n",
    "\n",
    "Rpta.: (a) [0.1807; 0.094]; (b) σ^2 = 0.01\n",
    "\n",
    "**a) Definir el intervalo de confianza al 95% que contenga el verdadero valor de la desviación estándar.**"
   ]
  },
  {
   "cell_type": "markdown",
   "metadata": {},
   "source": [
    "Es deseable que $\\sigma < 0.5$\n",
    "\n",
    "Para tener el menor porcentaje de botellas con contenido menor.\n",
    "\n",
    "Distribucion normal."
   ]
  },
  {
   "cell_type": "code",
   "execution_count": 34,
   "metadata": {
    "collapsed": false
   },
   "outputs": [
    {
     "data": {
      "text/plain": [
       "0.12369316876852982"
      ]
     },
     "execution_count": 34,
     "metadata": {},
     "output_type": "execute_result"
    }
   ],
   "source": [
    "n = 20\n",
    "var = 0.0153\n",
    "sigma = math.sqrt(var)\n",
    "sigma"
   ]
  },
  {
   "cell_type": "code",
   "execution_count": 35,
   "metadata": {
    "collapsed": true
   },
   "outputs": [],
   "source": [
    "from scipy.stats import chi2\n",
    "alpha = 0.05"
   ]
  },
  {
   "cell_type": "code",
   "execution_count": 36,
   "metadata": {
    "collapsed": false
   },
   "outputs": [
    {
     "data": {
      "text/plain": [
       "32.852326861729694"
      ]
     },
     "execution_count": 36,
     "metadata": {},
     "output_type": "execute_result"
    }
   ],
   "source": [
    "chi2.ppf(1 - alpha/2, n-1)"
   ]
  },
  {
   "cell_type": "code",
   "execution_count": 37,
   "metadata": {
    "collapsed": false,
    "scrolled": true
   },
   "outputs": [
    {
     "data": {
      "text/plain": [
       "8.906516481987973"
      ]
     },
     "execution_count": 37,
     "metadata": {},
     "output_type": "execute_result"
    }
   ],
   "source": [
    "chi2.ppf(alpha/2, n-1)"
   ]
  },
  {
   "cell_type": "markdown",
   "metadata": {},
   "source": [
    "La desviacion estandar se encuentra en este intervalo con confiabilidad de 95%."
   ]
  },
  {
   "cell_type": "code",
   "execution_count": 38,
   "metadata": {
    "collapsed": false
   },
   "outputs": [
    {
     "data": {
      "text/plain": [
       "[0.016411806230274294, 0.060536128098872467]"
      ]
     },
     "execution_count": 38,
     "metadata": {},
     "output_type": "execute_result"
    }
   ],
   "source": [
    "[sigma*math.sqrt(n-1)/chi2.ppf(1 - alpha/2, n-1), sigma*math.sqrt(n-1)/chi2.ppf(alpha/2, n-1)]"
   ]
  },
  {
   "cell_type": "markdown",
   "metadata": {},
   "source": [
    "**b) Si la varianza de llenado es mayor que 0.01 (onzas de fluido )^2, entonces existe una proporción inaceptable de botellas que serán llenadas con una cantidad menor de líquido. Existe evidencia en los datos muestrales que sugiera que el fabricante tiene un problema con el llenado de las botellas? Utilice α = 0.05.**"
   ]
  },
  {
   "cell_type": "markdown",
   "metadata": {},
   "source": [
    "$H_0: \\sigma_1^2 = 0.01$\n",
    "\n",
    "$H_1: \\sigma_1^2 > 0.01$\n",
    "\n",
    "Cola a la derecha"
   ]
  },
  {
   "cell_type": "code",
   "execution_count": 39,
   "metadata": {
    "collapsed": false,
    "scrolled": true
   },
   "outputs": [
    {
     "data": {
      "text/plain": [
       "30.143527205646159"
      ]
     },
     "execution_count": 39,
     "metadata": {},
     "output_type": "execute_result"
    }
   ],
   "source": [
    "chi2_tabla = chi2.ppf(1 - alpha, n - 1)\n",
    "chi2_tabla"
   ]
  },
  {
   "cell_type": "code",
   "execution_count": 40,
   "metadata": {
    "collapsed": false
   },
   "outputs": [
    {
     "data": {
      "text/plain": [
       "29.07"
      ]
     },
     "execution_count": 40,
     "metadata": {},
     "output_type": "execute_result"
    }
   ],
   "source": [
    "chi2_calc = (n - 1)*var/0.01\n",
    "chi2_calc"
   ]
  },
  {
   "cell_type": "markdown",
   "metadata": {},
   "source": [
    "Ya que\n",
    "\n",
    "$$\n",
    "\\chi_{calc} < \\chi_{tabla}\n",
    "$$\n",
    "\n",
    "Se acepta la hipotesis y se concluye, con 95% de confiabilidad, que no hay ninguna gran evidencia de que la varianza del volumen de llenado sea mayor que 0.01.\n"
   ]
  }
 ],
 "metadata": {
  "kernelspec": {
   "display_name": "Python 3",
   "language": "python",
   "name": "python3"
  },
  "language_info": {
   "codemirror_mode": {
    "name": "ipython",
    "version": 3
   },
   "file_extension": ".py",
   "mimetype": "text/x-python",
   "name": "python",
   "nbconvert_exporter": "python",
   "pygments_lexer": "ipython3",
   "version": "3.5.2"
  }
 },
 "nbformat": 4,
 "nbformat_minor": 2
}
