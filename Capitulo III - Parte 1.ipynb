{
 "cells": [
  {
   "cell_type": "code",
   "execution_count": 1,
   "metadata": {
    "collapsed": true
   },
   "outputs": [],
   "source": [
    "import pandas as pd\n",
    "import matplotlib.pyplot as plt\n",
    "import seaborn as sns\n",
    "import numpy as np\n",
    "from scipy import stats\n",
    "import math\n",
    "%matplotlib inline\n",
    "sns.set(style='whitegrid', rc={\"grid.linewidth\": 0.1})\n",
    "sns.set_context(\"paper\")\n",
    "\n",
    "plt.rc('figure', figsize=(6,3))\n",
    "plt.rc('figure.subplot', wspace=.33)"
   ]
  },
  {
   "cell_type": "markdown",
   "metadata": {},
   "source": [
    "##  Problema 4\n",
    "\n",
    "Si X es N(5,4), encontrar el valor de c tal que:\n",
    "\n",
    "a) P(X < c) = 0.8749\n",
    "\n",
    "b) P(c < X) = 0.6406\n",
    "\n",
    "c) P( X < c) = 0.95\n",
    "\n",
    "Rpta: a) 1.15; b) –0.36; c) 1.645"
   ]
  },
  {
   "cell_type": "markdown",
   "metadata": {},
   "source": [
    "Sabiendo que la distribucion normal es\n",
    "\n",
    "$$\n",
    "P(x) = \\frac{1}{\\sigma \\sqrt{2\\pi} }e^{- (x - \\mu)^2 / 2\\sigma^2 }\n",
    "$$\n",
    "\n",
    "La primera probabilidad\n",
    "\n",
    "$$\n",
    "P(X < c) = \\int_{-\\infty}^c \\frac{1}{\\sigma \\sqrt{2\\pi} }e^{- (x - \\mu)^2 / 2\\sigma^2 } dx\n",
    "$$\n",
    "\n",
    "Se transforma a la dist. normal estandar x q la integral no es facil de resolver. Se define lo que se conoce como z-score o \"z\".\n",
    "\n",
    "$$\n",
    "\\begin{aligned}\n",
    "z &= (x - \\mu) / \\sigma \\\\\n",
    "x &= \\mu + \\sigma z \\\\\n",
    "dx &= \\sigma dz\n",
    "\\end{aligned}\n",
    "$$\n",
    "\n",
    "$$\n",
    "P(X < c) = \\int_{-\\infty}^c \\frac{1}{\\sqrt{2\\pi} }e^{- z^2 / 2\\sigma^2 } dz\n",
    "$$\n",
    "\n",
    "Esta distribucion claramente es la distribucion normal estandar. Solo se hace un cambio de variable. Y resulta la \"Función Estándar de Distribución Normal\"\n",
    "\n",
    "$$\n",
    "\\phi(z) = P(Z < z) = \\int_{-\\infty}^z \\frac{1}{\\sqrt{2\\pi} }e^{- w^2 / 2\\sigma^2 } dw\n",
    "$$\n",
    "\n",
    "La salida de esta funcion es bien conocida, se utilizaba la tabla z."
   ]
  },
  {
   "cell_type": "markdown",
   "metadata": {},
   "source": [
    "Entonces para transformar una distribucion a la otra.\n",
    "\n",
    "Solo hace falta recordar\n",
    " \n",
    "$$\n",
    "\\begin{aligned}\n",
    "P(X < c) =& P(Z < z)\\\\\n",
    "         =& P\\Big(Z < \\Big(\\frac{c - \\mu}{\\sigma}\\Big)\\Big)\n",
    "\\end{aligned}\n",
    "$$"
   ]
  },
  {
   "cell_type": "markdown",
   "metadata": {},
   "source": [
    "**a) P(X < c) = 0.8749**\n",
    "\n",
    "$$\n",
    "\\begin{aligned}\n",
    "N(\\mu, \\sigma^2) \\\\\n",
    "\\mu = 5 \\\\\n",
    "\\sigma^2 = 4\n",
    "\\end{aligned}\n",
    "$$\n",
    "\n",
    "Pide calcular c\n",
    "\n",
    "$$\n",
    "\\begin{aligned}\n",
    "P(X < c) =& 0.8749 \\\\\n",
    "         =& P(Z < z) \\\\\n",
    "         =& P\\Big(Z < \\Big(\\frac{c - 5}{2}\\Big)\\Big)\n",
    "\\end{aligned}\n",
    "$$"
   ]
  },
  {
   "cell_type": "code",
   "execution_count": 2,
   "metadata": {
    "collapsed": false,
    "scrolled": false
   },
   "outputs": [
    {
     "name": "stdout",
     "output_type": "stream",
     "text": [
      "z = 1.1498637337452084\n"
     ]
    }
   ],
   "source": [
    "from scipy.stats import norm\n",
    "# percent point function\n",
    "z = norm.ppf(0.8749)\n",
    "print(\"z = {}\".format(z))"
   ]
  },
  {
   "cell_type": "code",
   "execution_count": 3,
   "metadata": {
    "collapsed": false,
    "scrolled": true
   },
   "outputs": [
    {
     "data": {
      "text/plain": [
       "7.2997274674904169"
      ]
     },
     "execution_count": 3,
     "metadata": {},
     "output_type": "execute_result"
    }
   ],
   "source": [
    "c = 2 * z + 5\n",
    "c"
   ]
  },
  {
   "cell_type": "markdown",
   "metadata": {},
   "source": [
    "Que es lo mismo que"
   ]
  },
  {
   "cell_type": "code",
   "execution_count": 4,
   "metadata": {
    "collapsed": false
   },
   "outputs": [
    {
     "data": {
      "text/plain": [
       "7.2997274674904169"
      ]
     },
     "execution_count": 4,
     "metadata": {},
     "output_type": "execute_result"
    }
   ],
   "source": [
    "norm.ppf(.8749, loc=5, scale=2)"
   ]
  },
  {
   "cell_type": "code",
   "execution_count": 5,
   "metadata": {
    "collapsed": false
   },
   "outputs": [
    {
     "data": {
      "image/png": "[encoded data removed]",
      "text/plain": [
       "<matplotlib.figure.Figure at 0x105552a58>"
      ]
     },
     "metadata": {},
     "output_type": "display_data"
    }
   ],
   "source": [
    "def plot_bell(mu, sigma, area):\n",
    "    x_sep_left = norm.ppf(area, mu, sigma)\n",
    "    left = mu - 3*sigma\n",
    "    right = mu + 3*sigma\n",
    "\n",
    "    x = np.linspace(left, right, 100)\n",
    "    y = norm.pdf(x, mu, sigma)\n",
    "\n",
    "    plt.figure()\n",
    "    plt.plot(x, y)\n",
    "\n",
    "    x_fill_left = np.linspace(left, x_sep_left, 100)\n",
    "    plt.axvline(x_sep_left, color='r')\n",
    "    plt.text(x=x_sep_left, y=max(y)/1.2, s=\"{}%\".format(round(100*area, 2)), color='black')\n",
    "    \n",
    "plot_bell(5, 2, .8749)"
   ]
  },
  {
   "cell_type": "markdown",
   "metadata": {},
   "source": [
    "**b) P(c < X) = 0.6406**"
   ]
  },
  {
   "cell_type": "markdown",
   "metadata": {},
   "source": [
    "$$\n",
    "\\begin{aligned}\n",
    "P(c < X) =& 1 - P(X < c) \\\\\n",
    "=& 1 - P(Z < z) \\\\\n",
    "=& 1 - P(Z < (c - 5) / 2) \\\\\n",
    "0.6406 =& 1 - P(Z < (c - 5) / 2) \\\\\n",
    "0.3594 =& P(Z < (c - 5) / 2) \\\\\n",
    "\\end{aligned}\n",
    "$$"
   ]
  },
  {
   "cell_type": "code",
   "execution_count": 6,
   "metadata": {
    "collapsed": false,
    "scrolled": true
   },
   "outputs": [
    {
     "name": "stdout",
     "output_type": "stream",
     "text": [
      "z = -0.3600630285663343\n"
     ]
    }
   ],
   "source": [
    "z = norm.ppf(0.3594)\n",
    "print(\"z = {}\".format(z))"
   ]
  },
  {
   "cell_type": "code",
   "execution_count": 7,
   "metadata": {
    "collapsed": false
   },
   "outputs": [
    {
     "data": {
      "text/plain": [
       "4.2798739428673311"
      ]
     },
     "execution_count": 7,
     "metadata": {},
     "output_type": "execute_result"
    }
   ],
   "source": [
    "c = 2 * z + 5\n",
    "c"
   ]
  },
  {
   "cell_type": "markdown",
   "metadata": {},
   "source": [
    "**b) P(X < c) = 0.95**"
   ]
  },
  {
   "cell_type": "code",
   "execution_count": 8,
   "metadata": {
    "collapsed": false
   },
   "outputs": [
    {
     "name": "stdout",
     "output_type": "stream",
     "text": [
      "z = 1.6448536269514722\n"
     ]
    }
   ],
   "source": [
    "z = norm.ppf(0.95)\n",
    "print(\"z = {}\".format(z))"
   ]
  },
  {
   "cell_type": "code",
   "execution_count": 9,
   "metadata": {
    "collapsed": false
   },
   "outputs": [
    {
     "data": {
      "text/plain": [
       "8.2897072539029448"
      ]
     },
     "execution_count": 9,
     "metadata": {},
     "output_type": "execute_result"
    }
   ],
   "source": [
    "c = 2 * z + 5\n",
    "c"
   ]
  },
  {
   "cell_type": "markdown",
   "metadata": {},
   "source": [
    "##  Problema 7\n",
    "\n",
    "Supóngase que las especificaciones del diámetro de un eje de motor son 0.25 +- 0.002 pulgadas. Si la\n",
    "producción de estos ejes esta distribuida normalmente con μ = 0.251 pulg. y sigma = 0.001 pulg. Qué porcentaje\n",
    "de los ejes se encuentran dentro de las especificaciones?\n",
    "\n",
    "Rpta.: 84 %"
   ]
  },
  {
   "cell_type": "markdown",
   "metadata": {},
   "source": [
    "$X \\sim N(0.251, 0.001^2)$\n",
    "\n",
    "$P(0.25 - 0.002 < x < 0.25 + 0.002) = \\phi((0.25 + 0.002 - 0.251)/0.001) - \\phi((0.25 - 0.002 - 0.251)/0.001)$"
   ]
  },
  {
   "cell_type": "code",
   "execution_count": 10,
   "metadata": {
    "collapsed": false
   },
   "outputs": [
    {
     "name": "stdout",
     "output_type": "stream",
     "text": [
      "phi_1 = 0.8413447460685431\n"
     ]
    }
   ],
   "source": [
    "phi_1 = norm.cdf((0.25 + 0.002 - 0.251)/0.001)\n",
    "print(\"phi_1 = {}\".format(phi_1))"
   ]
  },
  {
   "cell_type": "code",
   "execution_count": 11,
   "metadata": {
    "collapsed": false
   },
   "outputs": [
    {
     "name": "stdout",
     "output_type": "stream",
     "text": [
      "phi_2 = 0.0013498980316300813\n"
     ]
    }
   ],
   "source": [
    "phi_2 = norm.cdf((0.25 - 0.002 - 0.251)/0.001)\n",
    "print(\"phi_2 = {}\".format(phi_2))"
   ]
  },
  {
   "cell_type": "code",
   "execution_count": 12,
   "metadata": {
    "collapsed": false
   },
   "outputs": [
    {
     "data": {
      "text/plain": [
       "0.83999484803691304"
      ]
     },
     "execution_count": 12,
     "metadata": {},
     "output_type": "execute_result"
    }
   ],
   "source": [
    "phi_1 - phi_2"
   ]
  },
  {
   "cell_type": "markdown",
   "metadata": {},
   "source": [
    "##  Problema 9\n",
    "\n",
    "Una máquina llena bolsas con cemento a 100 libras. El peso que se pone en cada bolsa es una variable\n",
    "aleatoria con sigma = 0.5 lbs. El promedio de la distribución puede ser fijado por el operador. A que peso\n",
    "promedio debe ser fijada la máquina para que solo 5 % de las bolsas estén bajo el peso especificado?\n",
    "\n",
    "Rpta.: 100.823"
   ]
  },
  {
   "cell_type": "code",
   "execution_count": 13,
   "metadata": {
    "collapsed": false
   },
   "outputs": [],
   "source": [
    "sigma = 0.5\n",
    "mu = 100"
   ]
  },
  {
   "cell_type": "markdown",
   "metadata": {},
   "source": [
    "$$\n",
    "\\begin{aligned}\n",
    "P(x < 100) =& 0.05 \\\\\n",
    "=& P(Z < (100 - \\mu)/\\sigma) \\\\\n",
    "\\end{aligned}\n",
    "$$"
   ]
  },
  {
   "cell_type": "code",
   "execution_count": 14,
   "metadata": {
    "collapsed": false
   },
   "outputs": [
    {
     "data": {
      "text/plain": [
       "-1.6448536269514729"
      ]
     },
     "execution_count": 14,
     "metadata": {},
     "output_type": "execute_result"
    }
   ],
   "source": [
    "z = norm.ppf(0.05)\n",
    "z"
   ]
  },
  {
   "cell_type": "markdown",
   "metadata": {},
   "source": [
    "$$\n",
    "\\begin{aligned}\n",
    "z =& (100 - \\mu) / \\sigma \\\\\n",
    "z * \\sigma =& 100 - \\mu \\\\\n",
    "\\mu =& 100 - z * \\sigma\n",
    "\\end{aligned}\n",
    "$$"
   ]
  },
  {
   "cell_type": "code",
   "execution_count": 15,
   "metadata": {
    "collapsed": false
   },
   "outputs": [
    {
     "data": {
      "text/plain": [
       "100.82242681347573"
      ]
     },
     "execution_count": 15,
     "metadata": {},
     "output_type": "execute_result"
    }
   ],
   "source": [
    "100 - z * sigma"
   ]
  },
  {
   "cell_type": "markdown",
   "metadata": {},
   "source": [
    "##  Problema 12\n",
    "\n",
    "El espesor de placas metálicas es una variable de interés. Debido a muchos factores, tales como variaciones\n",
    "en las características del metal, diferentes operarios y diferentes máquinas, el espesor varía y puede ser\n",
    "considerado como una variable aleatoria con μ = 20 mm y sigma = 0.04 mm. Cuánto de placas de desecho se\n",
    "puede esperar si el espesor :\n",
    "\n",
    "**a) Tiene que ser por lo menos 19.95 mm?**\n",
    "\n",
    "Rpta.: a) 10.56 %; b) 0.62 %; c) 21.12 %; d) [19.92; 20.784]; e) 70.54 %"
   ]
  },
  {
   "cell_type": "markdown",
   "metadata": {},
   "source": [
    "Placas de **desecho**:\n",
    "$$\n",
    "P(x <= 19.95) \\\\\n",
    "$$"
   ]
  },
  {
   "cell_type": "code",
   "execution_count": 16,
   "metadata": {
    "collapsed": false
   },
   "outputs": [
    {
     "data": {
      "text/plain": [
       "0.10564977366685208"
      ]
     },
     "execution_count": 16,
     "metadata": {},
     "output_type": "execute_result"
    }
   ],
   "source": [
    "mu = 20\n",
    "sigma = 0.04\n",
    "p = norm.cdf(19.95, mu, sigma)\n",
    "p"
   ]
  },
  {
   "cell_type": "markdown",
   "metadata": {},
   "source": [
    "**b) Puede ser máximo 20.10 mm?**"
   ]
  },
  {
   "cell_type": "code",
   "execution_count": 17,
   "metadata": {
    "collapsed": false
   },
   "outputs": [
    {
     "data": {
      "text/plain": [
       "0.006209665325775493"
      ]
     },
     "execution_count": 17,
     "metadata": {},
     "output_type": "execute_result"
    }
   ],
   "source": [
    "p = 1 - norm.cdf(20.10, mu, sigma)\n",
    "p"
   ]
  },
  {
   "cell_type": "markdown",
   "metadata": {},
   "source": [
    "**c) Pueden diferir máximo 0.05 mm del objetivo de 20 mm?**"
   ]
  },
  {
   "cell_type": "markdown",
   "metadata": {},
   "source": [
    "$P(19.95 \\leq x \\leq 20.05)$ \n",
    "\n",
    "Placas de desecho:\n",
    "\n",
    "$1 - P(19.95 \\leq x \\leq 20.05)$ "
   ]
  },
  {
   "cell_type": "code",
   "execution_count": 18,
   "metadata": {
    "collapsed": false
   },
   "outputs": [
    {
     "data": {
      "text/plain": [
       "0.10564977366685208"
      ]
     },
     "execution_count": 18,
     "metadata": {},
     "output_type": "execute_result"
    }
   ],
   "source": [
    "norm.cdf(19.95, mu, sigma)"
   ]
  },
  {
   "cell_type": "code",
   "execution_count": 19,
   "metadata": {
    "collapsed": false
   },
   "outputs": [
    {
     "data": {
      "text/plain": [
       "0.21129954733370404"
      ]
     },
     "execution_count": 19,
     "metadata": {},
     "output_type": "execute_result"
    }
   ],
   "source": [
    "p = norm.cdf(20.05, mu, sigma) - norm.cdf(19.95, mu, sigma)\n",
    "1 - p"
   ]
  },
  {
   "cell_type": "markdown",
   "metadata": {},
   "source": [
    "**d) Como se establecerían los límites de tolerancia, (20 - c) y (20 + c), de tal modo que se produzca un máximo\n",
    "de 5 % de desechos?**"
   ]
  },
  {
   "cell_type": "markdown",
   "metadata": {},
   "source": [
    "Usando un solo lado, 2.5% en cada lado, entonces\n",
    "\n",
    "$P(x < 20 - c) = 2.5$"
   ]
  },
  {
   "cell_type": "code",
   "execution_count": 20,
   "metadata": {
    "collapsed": false
   },
   "outputs": [],
   "source": [
    "z = norm.ppf(0.025, mu, sigma)"
   ]
  },
  {
   "cell_type": "code",
   "execution_count": 21,
   "metadata": {
    "collapsed": false
   },
   "outputs": [
    {
     "data": {
      "text/plain": [
       "0.078398559381600563"
      ]
     },
     "execution_count": 21,
     "metadata": {},
     "output_type": "execute_result"
    }
   ],
   "source": [
    "c = 20 - z\n",
    "c"
   ]
  },
  {
   "cell_type": "markdown",
   "metadata": {},
   "source": [
    "Intervalo"
   ]
  },
  {
   "cell_type": "code",
   "execution_count": 22,
   "metadata": {
    "collapsed": false
   },
   "outputs": [
    {
     "data": {
      "text/plain": [
       "[19.921601440618399, 20.078398559381601]"
      ]
     },
     "execution_count": 22,
     "metadata": {},
     "output_type": "execute_result"
    }
   ],
   "source": [
    "[20 - c, 20 + c]"
   ]
  },
  {
   "cell_type": "markdown",
   "metadata": {},
   "source": [
    "**e) Asúmase que el promedio se ha desplazado a μ = 20.10 mm. Calcular el porcentaje de placas metálicas\n",
    "que excedan los límites de tolerancia de la parte (d) de este problema.**"
   ]
  },
  {
   "cell_type": "markdown",
   "metadata": {},
   "source": [
    "Porcentaje de placas que exceden deben estar fuera del intervalo"
   ]
  },
  {
   "cell_type": "code",
   "execution_count": 23,
   "metadata": {
    "collapsed": true
   },
   "outputs": [],
   "source": [
    "tolerancia = [19.921601440618399, 20.078398559381601]"
   ]
  },
  {
   "cell_type": "markdown",
   "metadata": {},
   "source": [
    "Es decir, primero la probabilidad $P(x < 19.921601440618399)$"
   ]
  },
  {
   "cell_type": "code",
   "execution_count": 24,
   "metadata": {
    "collapsed": false,
    "scrolled": true
   },
   "outputs": [],
   "source": [
    "mu = 20.10\n",
    "p1 = norm.cdf(tolerancia[0], mu, sigma)"
   ]
  },
  {
   "cell_type": "markdown",
   "metadata": {},
   "source": [
    "Y la probabilidad $P(x > 20.078398559381601) = 1 - P(x < 20.078398559381601)$"
   ]
  },
  {
   "cell_type": "code",
   "execution_count": 25,
   "metadata": {
    "collapsed": false
   },
   "outputs": [],
   "source": [
    "p2 = 1 - norm.cdf(tolerancia[1], mu, sigma)"
   ]
  },
  {
   "cell_type": "code",
   "execution_count": 26,
   "metadata": {
    "collapsed": false
   },
   "outputs": [
    {
     "data": {
      "text/plain": [
       "0.70541800111382635"
      ]
     },
     "execution_count": 26,
     "metadata": {},
     "output_type": "execute_result"
    }
   ],
   "source": [
    "p1 + p2"
   ]
  }
 ],
 "metadata": {
  "kernelspec": {
   "display_name": "Python 3",
   "language": "python",
   "name": "python3"
  },
  "language_info": {
   "codemirror_mode": {
    "name": "ipython",
    "version": 3
   },
   "file_extension": ".py",
   "mimetype": "text/x-python",
   "name": "python",
   "nbconvert_exporter": "python",
   "pygments_lexer": "ipython3",
   "version": "3.5.2"
  }
 },
 "nbformat": 4,
 "nbformat_minor": 2
}
